{
 "cells": [
  {
   "cell_type": "markdown",
   "metadata": {},
   "source": [
    "# Advanced Python for ArcGIS\n",
    "---\n",
    "## Description\n",
    "\n",
    "Building on Python Programming Basics for GIS Professionals but open to anyone with some programming experience, this workshop will expand on those skills to further use Python in ArcGIS. The workshop will focus on the ArcPy Python site package to expand geoprocessing capabilities with Python scripts. Participants will learn to build multiple standalone geoprocessing scripts covering different GIS tasks and workflows. The workshop will also cover how to create scripting tools in ArcGIS toolboxes for reuse and sharing. Participants will finish with the skills to explore more resources and options for utilizing Python in ArcGIS.\n",
    "\n",
    "### Specific Topics Include:\n",
    "\n",
    "* Work with the ArcPy Python site package for ArcGIS\n",
    "* Convert ModelBuilder models to Python scripts\n",
    "* Build and share stand-alone Python script tools for automation\n",
    "* Learn tips and tricks for valid script syntax and error handling\n",
    "\n",
    "\n",
    "## Computing and Software Needs\n",
    "\n",
    "* Your own laptop; computers will not be provided.\n",
    "\n",
    "* ArcGIS Desktop 10.x (Standard or Advanced preferred)\n",
    "\n",
    "* Python IDE\n",
    "    * <a href=\"http://sourceforge.net/projects/pyscripter/files/\" target=\"_blank\">PyScripter</a> (v. 2.6.0 **32-bit** version)\n",
    "        * *NOTE:* The zip files contain portable versions of PyScripter.   No installation is needed. Just unzip the archive and start using PyScripter.\n",
    "\n",
    "    * <a href=\"https://docs.python.org/2/library/idle.html\" target=\"_blank\">IDLE</a> is also shipped with ArcGIS for Desktop, so it can also be used\n",
    "\n",
    "\n",
    "## Instructor\n",
    "\n",
    "**James Whitacre**, GIS Specialist, University Library, University of Illinois at Urbana-Champaign\n",
    "\n",
    "As the GIS Specialist in the Main Library at the University of Illinois at Urbana-Champaign, Mr. Whitacre's primary role is to provide GIS consultation and research assistance for faculty, staff, and students. Additionally, he teaches a myriad of GIS workshops for beginner to advanced users and helps manage the Library's GIS data and software assets. He is also a central resource for the GIS community on campus to promote the use of GIS in research. Mr. Whitacre holds a Master of Science in Geography and was previously the GIS Manager for the Carnegie Museum of Natural History.\n",
    "\n"
   ]
  },
  {
   "cell_type": "markdown",
   "metadata": {},
   "source": [
    "# I. Introductions and Outline\n",
    "---\n",
    "\n",
    "## Outline\n",
    "\n",
    "### Data and Software Setup\n",
    "\n",
    "### Review of *Introduction to Python for ArcGIS*\n",
    "\n",
    "### Working with Files in Python\n",
    "* Reading Files with Python\n",
    "* `csv` Module\n",
    "* Reading CSV files\n",
    "\n",
    "### Standalone Scripts with Python\n",
    "* Planning a Standalone Script (i.e. Pseudo Code)\n",
    "* Search Cursors\n",
    "* Writing CSV files\n",
    "\n",
    "### Break\n",
    "\n",
    "### Python vs. ModelBuilder\n",
    "* Convert ModelBuilder Tools to Python Scripts\n",
    "\n",
    "### Automating Geoprocesses with Standalone Scripts\n",
    "* Handling Errors and Debugging\n",
    "\n",
    "### Adding Python Script Tools to Toolboxes\n",
    "\n",
    "### Conclusion and Moving Forward"
   ]
  },
  {
   "cell_type": "markdown",
   "metadata": {},
   "source": [
    "# II. Data and Software Setup\n",
    "---"
   ]
  },
  {
   "cell_type": "markdown",
   "metadata": {},
   "source": [
    "## Download Exercise Data\n",
    "\n",
    "### https://uofi.box.com/ILGISA-Python\n",
    "\n",
    "* Extract the data to a folder on the Desktop or other well-known folder\n",
    "* For folks who can't download the files, we have it on a flash drive\n"
   ]
  },
  {
   "cell_type": "markdown",
   "metadata": {},
   "source": [
    "## Python IDE: PyScripter\n",
    "\n",
    "* Download <a href=\"http://sourceforge.net/projects/pyscripter/files/\" target=\"_blank\">PyScripter</a> (v. 2.6.0 **32-bit** version)\n",
    "* Open PyScripter: Two Ways...\n",
    "    * Install it like a normal program\n",
    "        * Download **PyScripter-v2.6.0-Setup.exe**, run the install file, open program\n",
    "        * Admin privileges needed\n",
    "\n",
    "    * Run the portable version\n",
    "        * Download **PyScripter-v2.6.0.zip**, extract, and run **PyScripter.exe**\n",
    "        * Admin privileges *NOT* needed\n",
    "\n",
    "* Already using a Python IDE? If you feel comfortable in your own envirionment, please use it, but there is no guarantee that issues can be supported\n",
    "\n",
    "\n",
    "* If all esle fails, you may need to use IDLE, which ships with ArcGIS Desktop and is installed automatically\n",
    "\n",
    "### Type the code below and run it. \n",
    "\n",
    "#### I will give explanation of concepts, then have code examples that can be run in the IDE in the grey boxes.\n",
    "\n",
    "#### Please *type* the code as we go and try to avoid copy and pasting unless instructed otherwise. Typing the code will help you learn it better!\n"
   ]
  },
  {
   "cell_type": "code",
   "execution_count": null,
   "metadata": {
    "collapsed": true
   },
   "outputs": [],
   "source": [
    "print(\"hello world\")\n",
    "\n",
    "# Note: Using just `print` without `()` is proper syntax in Python 2.x, but getting in the habit of usng `print()` \n",
    "#     will prepare you for Python 3.x and ArcGIS Pro, which is the only way `print()` will work"
   ]
  },
  {
   "cell_type": "markdown",
   "metadata": {},
   "source": [
    "# III. Review of *Introduction to Python for ArcGIS*\n",
    "---\n",
    "**Review of minimal skills needed for those who didn't attend first session**"
   ]
  },
  {
   "cell_type": "markdown",
   "metadata": {},
   "source": [
    "# IV. Working with Files in Python\n",
    "---"
   ]
  },
  {
   "cell_type": "markdown",
   "metadata": {},
   "source": [
    "## Reading Files with Python\n",
    "\n",
    "For more commands and options see: \n",
    "* https://docs.python.org/2/tutorial/inputoutput.html#reading-and-writing-files\n",
    "* https://www.tutorialspoint.com/python/python_files_io.htm\n",
    "\n",
    "**In both cases, start with the file path as a string variable.**"
   ]
  },
  {
   "cell_type": "code",
   "execution_count": null,
   "metadata": {
    "collapsed": false
   },
   "outputs": [],
   "source": [
    "# Replace the '...' with the location where you placed your downloaded data\n",
    "\n",
    "filename =  r'C:\\...\\Data\\CSV\\JeopardyContestants_LatLon.csv'\n",
    "\n",
    "# filename = r\"C:\\Users\\jvwhit\\Documents\\ILGISA\\Data\\Answers_Adv\\CSV\\JeopardyContestants_LatLon.csv\"\n",
    "\n",
    "print(filename)\n"
   ]
  },
  {
   "cell_type": "markdown",
   "metadata": {},
   "source": [
    "**Now we need to make our file object/variable. We will print the result to see what it looks like**"
   ]
  },
  {
   "cell_type": "code",
   "execution_count": null,
   "metadata": {
    "collapsed": false
   },
   "outputs": [],
   "source": [
    "f = open(filename, 'r')\n",
    "\n",
    "print(f)"
   ]
  },
  {
   "cell_type": "markdown",
   "metadata": {},
   "source": [
    "**Notice that it indicating that it is an open file (the object)**\n",
    "\n",
    "### File Access Modes\n",
    "\n",
    "| Modes | Description |\n",
    "| --- | --- |\n",
    "| r | Opens a file for reading only. The file pointer is placed at the beginning of the file. This is the default mode. |\n",
    "| rb | Opens a file for reading only in binary format. The file pointer is placed at the beginning of the file. This is the default mode. |\n",
    "| r+ | Opens a file for both reading and writing. The file pointer placed at the beginning of the file. |\n",
    "| rb+ | Opens a file for both reading and writing in binary format. The file pointer placed at the beginning of the file. |\n",
    "| w | Opens a file for writing only. Overwrites the file if the file exists. If the file does not exist, creates a new file for writing. |\n",
    "| wb | Opens a file for writing only in binary format. Overwrites the file if the file exists. If the file does not exist, creates a new file for writing. |\n",
    " |w+ | Opens a file for both writing and reading. Overwrites the existing file if the file exists. If the file does not exist, creates a new file for reading and writing. |\n",
    "| wb+ | Opens a file for both writing and reading in binary format. Overwrites the existing file if the file exists. If the file does not exist, creates a new file for reading and writing. |\n",
    "| a | Opens a file for appending. The file pointer is at the end of the file if the file exists. That is, the file is in the append mode. If the file does not exist, it creates a new file for writing. |\n",
    "| ab | Opens a file for appending in binary format. The file pointer is at the end of the file if the file exists. That is, the file is in the append mode. If the file does not exist, it creates a new file for writing. |\n",
    "| a+ | Opens a file for both appending and reading. The file pointer is at the end of the file if the file exists. The file opens in the append mode. If the file does not exist, it creates a new file for reading and writing. |\n",
    "| ab+ | Opens a file for both appending and reading in binary format. The file pointer is at the end of the file if the file exists. The file opens in the append mode. If the file does not exist, it creates a new file for reading and writing. |\n",
    "\n",
    "\n",
    "*See: https://www.tutorialspoint.com/python/python_files_io.htm\n",
    "\n",
    "**Now we can read in the file. We can see the raw text values using a `print()` statment**"
   ]
  },
  {
   "cell_type": "code",
   "execution_count": null,
   "metadata": {
    "collapsed": false
   },
   "outputs": [],
   "source": [
    "data = f.read()\n",
    "\n",
    "print(data)"
   ]
  },
  {
   "cell_type": "code",
   "execution_count": null,
   "metadata": {
    "collapsed": false
   },
   "outputs": [],
   "source": [
    "# Don't forget to close the file!\n",
    "\n",
    "f.close()\n",
    "print(f)"
   ]
  },
  {
   "cell_type": "markdown",
   "metadata": {},
   "source": [
    "### Reading Lines in a File\n",
    "\n",
    "**This time, we will use the with statement**"
   ]
  },
  {
   "cell_type": "code",
   "execution_count": null,
   "metadata": {
    "collapsed": false
   },
   "outputs": [],
   "source": [
    "with open(filename, 'r') as f:\n",
    "    data = f.readlines()\n",
    "\n",
    "# Is the file open or closed now\n",
    "print(f)\n",
    "# OR\n",
    "print(f.closed)\n",
    "\n",
    "# Print the data\n",
    "print(data)"
   ]
  },
  {
   "cell_type": "markdown",
   "metadata": {},
   "source": [
    "**What type of data does the `.readline()` method produce?**\n",
    "\n",
    "**Is the output very readable?**\n",
    "\n",
    "**Let's make it more readable using a `for` statement**"
   ]
  },
  {
   "cell_type": "code",
   "execution_count": null,
   "metadata": {
    "collapsed": false,
    "scrolled": true
   },
   "outputs": [],
   "source": [
    "for e in data:\n",
    "    print(e)"
   ]
  },
  {
   "cell_type": "markdown",
   "metadata": {},
   "source": [
    "**Check out those extra blank lines.  This can be an artifact from coming in from Excel.**\n",
    "\n",
    "**When you see this, use `strip()` to clean things up.  This function cleans off any white space characters from both the left and the right of a line of text.**\n",
    "\n",
    "**There are also `rstrip()` and `lstrip()` in case those would be useful.**"
   ]
  },
  {
   "cell_type": "code",
   "execution_count": null,
   "metadata": {
    "collapsed": false
   },
   "outputs": [],
   "source": [
    "for e in data:\n",
    "    print(e.strip())"
   ]
  },
  {
   "cell_type": "markdown",
   "metadata": {},
   "source": [
    "## `csv` Module\n",
    "\n",
    "### What is the CSV module?\n",
    "\n",
    "\n",
    "## Two core functions:\n",
    "\n",
    "* **`csv.reader(file object)`** to create a reading object\n",
    "* **`csv.writer(file object)`** to create a writing object.\n",
    "\n",
    "## To write files,  use these two functions:\n",
    "\n",
    "* **`writerow(row)`** to write a single row\n",
    "* **`writerows(list of lists)`** to write many rows\n",
    "\n",
    "Below are some basic formulas for reading in data. Many of these formulas came from chapter 6 of the [Python Cookbook (third edition)](http://chimera.labs.oreilly.com/books/1230000000393).  Not all of this syntax will make sense, but just treat it as a formula for now. Things will make more sense as you learn more about Python.\n",
    "\n",
    "You can read the chapter for free here:  http://chimera.labs.oreilly.com/books/1230000000393/ch06.html"
   ]
  },
  {
   "cell_type": "code",
   "execution_count": null,
   "metadata": {
    "collapsed": false
   },
   "outputs": [],
   "source": [
    "import csv\n",
    "\n",
    "# Open the File\n",
    "with open(filename, 'r') as file_in:\n",
    "    \n",
    "    # Read the file using the csv module reader\n",
    "    file_in = csv.reader(file_in)\n",
    "    \n",
    "    # Read the first line to store the headers as a list\n",
    "    headers = next(file_in) # The next() method reads the line as a list and moves to the next line of the csv file\n",
    "    \n",
    "    # Create an empty list to store the data\n",
    "    data = []\n",
    "    \n",
    "    # Loop through the remaining lines and append each line as a list element to the data list\n",
    "    for line in file_in:\n",
    "        data.append(line)\n",
    "\n",
    "print('Headers: {}'.format(headers))\n",
    "print('Data: {}'.format(data))"
   ]
  },
  {
   "cell_type": "code",
   "execution_count": null,
   "metadata": {
    "collapsed": false
   },
   "outputs": [],
   "source": [
    "for l in data:\n",
    "    print l"
   ]
  },
  {
   "cell_type": "markdown",
   "metadata": {},
   "source": [
    "**Now this looks like something we can start dealing with...**\n",
    "\n",
    "**Each row is coming in as a list, with each cell value as an element within that Nth corresponding position.**\n",
    "\n",
    "**Let's do some quick sanity checking...**"
   ]
  },
  {
   "cell_type": "code",
   "execution_count": null,
   "metadata": {
    "collapsed": false
   },
   "outputs": [],
   "source": [
    "for row in data:\n",
    "    print(len(row))"
   ]
  },
  {
   "cell_type": "markdown",
   "metadata": {},
   "source": [
    "**Is each row the same length?**\n",
    "\n",
    "**If it looks good, we can now loop through and get all the contestant names...**\n"
   ]
  },
  {
   "cell_type": "code",
   "execution_count": null,
   "metadata": {
    "collapsed": false
   },
   "outputs": [],
   "source": [
    "for row in data:\n",
    "    print( row[1])"
   ]
  },
  {
   "cell_type": "markdown",
   "metadata": {},
   "source": [
    "**There are many ways to get at the data from a CSV file. What I've shown here is one of the simplest possible mechanisms.  There are more advanced methods for more complex data.**\n",
    "\n",
    "**We will cover writing CSV files in a little bit...promise!**"
   ]
  },
  {
   "cell_type": "markdown",
   "metadata": {},
   "source": [
    "# V. Standalone Scripts with Python\n",
    "---"
   ]
  },
  {
   "cell_type": "markdown",
   "metadata": {},
   "source": [
    "## Scenario:\n",
    "\n",
    "For many of your GIS workflows, you need to create an Excel file of feature classes and standalone tables as a final standalone file to share with your colleagues. The ArcGIS **[Table to Excel](http://desktop.arcgis.com/en/arcmap/latest/tools/conversion-toolbox/table-to-excel.htm)** tool has been working great! But, you recently learned that your colleagues have been exporting the Excel files to CSV and they would like to elminate this step from their workflow. Therefore, they have asked you deliver files as CSV files instead. You scour ArcMap for a ***Table to CSV*** tool, but can't find it (Believe me, it doesn't exist! There are tools that get close, but not quite!). Therefore you decide to make a script that will export tables to CSV files.\n",
    "\n",
    "### This is a great example for when a simple standalone script would solve a common problem\n",
    "\n"
   ]
  },
  {
   "cell_type": "markdown",
   "metadata": {},
   "source": [
    "## Planning a Standalone Script (i.e. Pseudo Code)\n",
    "\n",
    "### What is Pseudo Code?\n",
    "\n",
    "### General Components of a Script\n",
    "*Indentation is shown for formatting purposes only*\n"
   ]
  },
  {
   "cell_type": "code",
   "execution_count": null,
   "metadata": {
    "collapsed": true
   },
   "outputs": [],
   "source": [
    "# Script Info and Metadata\n",
    "\n",
    "    #-------------------------------------------------------------------------------\n",
    "    # Name:        <ScriptName>.py\n",
    "    # Purpose:     <Some important purpose.>\n",
    "    # Author:      <Name, Your>\n",
    "    # Created:     DD/MM/YYYY\n",
    "    # Copyright:   (c) <Your Name> YYYY\n",
    "    # Licence:     <licence>\n",
    "    #-------------------------------------------------------------------------------\n",
    "\n",
    "# Import Modules\n",
    "    # arcpy and other modules that may help you complete your code\n",
    "\n",
    "# Parameters\n",
    "    # What inputs and outputs will the user have contorl over?\n",
    "\n",
    "# Environments\n",
    "    # Gets the house in order for how data and outputs will be dealt with\n",
    "    \n",
    "# Variables\n",
    "    # Anything that is not a parameter thay may be used multiple times\n",
    "    # These may also be dispersed throughout the script\n",
    "\n",
    "# Processes\n",
    "    # The code that dictates the workflow\n"
   ]
  },
  {
   "cell_type": "markdown",
   "metadata": {},
   "source": [
    "### Create Pseudo Code for the Stand-alone Script\n",
    "\n",
    "#### 1. Create a new script in your IDE\n",
    "\n",
    "#### 2. Add the pseudo code below as comments in the script\n",
    "\n",
    "#### 3. Save it to the 'Scripts' folder named as *TableToCSV.py*\n"
   ]
  },
  {
   "cell_type": "code",
   "execution_count": null,
   "metadata": {
    "collapsed": true
   },
   "outputs": [],
   "source": [
    "#-------------------------------------------------------------------------------\n",
    "# Name:        TableToCSV.py\n",
    "# Purpose:     <Some important purpose.>\n",
    "# Author:      <Name, Your>\n",
    "# Created:     17/10/2016\n",
    "# Copyright:   (c) <Your Name> 2016\n",
    "# Licence:     <licence>\n",
    "#-------------------------------------------------------------------------------\n",
    "\n",
    "# Import Modules\n",
    "\n",
    "# Parameters\n",
    "\n",
    "# Environments\n",
    "    \n",
    "# Variables\n",
    "\n",
    "# Processes\n"
   ]
  },
  {
   "cell_type": "markdown",
   "metadata": {},
   "source": [
    "#### 4. What are the steps needed to create the script (i.e. the pseudo code in plain language)?\n",
    "\n",
    "**Pseudo Code**\n",
    "\n",
    "* Read in a feature class or standalone table\n",
    "* Read the feature class or standalone table field names\n",
    "* Read the data\n",
    "* Write the field names to a new CSV file\n",
    "* Write the data to the new CSV file\n",
    "\n",
    "\n",
    "#### 5. Add the pseudo code to the `# Processes` seciton of the script\n"
   ]
  },
  {
   "cell_type": "code",
   "execution_count": null,
   "metadata": {
    "collapsed": true
   },
   "outputs": [],
   "source": [
    "# Processes\n",
    "\n",
    "# Read in a feature class or standalone table\n",
    "# Read the feature class or standalone table field names\n",
    "# Read the data\n",
    "# Write the field names to a new CSV file\n",
    "# Write the data to the new CSV file\n"
   ]
  },
  {
   "cell_type": "markdown",
   "metadata": {},
   "source": [
    "#### 6. What modules and user parameter inputs and outputs are needed?\n",
    "\n",
    "**Add the following `import` statements and parameter variables to your script *above the previous pseudo code***\n"
   ]
  },
  {
   "cell_type": "code",
   "execution_count": null,
   "metadata": {
    "collapsed": false
   },
   "outputs": [],
   "source": [
    "# Import Modules\n",
    "import arcpy\n",
    "import csv\n",
    "\n",
    "# Parameters\n",
    "\n",
    "# Path to the input feature class or standalone table\n",
    "# Replace the '...' with the location where you placed your downloaded data\n",
    "# input_table = r\"C:\\...\\Data\\Illinois.gdb\\Illinois_Counties\"\n",
    "input_table = r\"C:\\Users\\jvwhit\\Documents\\ILGISA\\Data\\Answers_Adv\\Illinois.gdb\\Illinois_Counties\"\n",
    "\n",
    "# Path to the output CSV file (this CSV file will not exist)\n",
    "# Replace the '...' with the location where you placed your downloaded data\n",
    "# output_csv = r\"C:\\...\\Data\\CSV\\Illinois_Counties.csv\"\n",
    "output_csv = r\"C:\\Users\\jvwhit\\Documents\\ILGISA\\Data\\Answers_Adv\\CSV\\Illinois_Counties.csv\"\n"
   ]
  },
  {
   "cell_type": "markdown",
   "metadata": {},
   "source": [
    "#### 7. Write the code\n",
    "\n",
    "**First, we will read the table and grab the field names**"
   ]
  },
  {
   "cell_type": "code",
   "execution_count": null,
   "metadata": {
    "collapsed": false
   },
   "outputs": [],
   "source": [
    "# Processes\n",
    "\n",
    "# Read in a feature class or standalone table\n",
    "# Read the feature class or standalone table field names\n",
    "field_list = [field.name for field in arcpy.ListFields(input_table)]\n",
    "\n",
    "print(field_list) # Do this to make sure it works\n"
   ]
  },
  {
   "cell_type": "markdown",
   "metadata": {},
   "source": [
    "**Now we can read the data...but first we need to learn about a new method, the *Search Cursor***\n",
    "\n",
    "### Search Cursors\n",
    "**`with arcpy.da.SearchCursor(input_table, field_list) as cursor:`**\n",
    "\n",
    "*Note: There are two types of cursors in ArcPy, one directly in ArcPy (e.g. `arcpy.SearchCursor(dataset)`) and the other in the Data Access module within ArcPy (e.g. `arcpy.da.SearchCursor(dataset)`). The Data Access module vesion of cursors is newer and faster and is recommended over the normal cursors. Also, the Data Access search cursor requires a list of fields, whereas for the normal cursor a field list is optional."
   ]
  },
  {
   "cell_type": "code",
   "execution_count": null,
   "metadata": {
    "collapsed": false
   },
   "outputs": [],
   "source": [
    "# Processes\n",
    "\n",
    "# Read the data\n",
    "data = []\n",
    "with arcpy.da.SearchCursor(input_table, field_list) as cursor:\n",
    "    for row in cursor:\n",
    "        data.append(row)\n",
    "\n",
    "print(data[:10]) # Print the first 10 rows to check the data\n",
    "        \n",
    "\n",
    "# Write the field names to a new CSV file\n",
    "# Write the data to the new CSV file"
   ]
  },
  {
   "cell_type": "markdown",
   "metadata": {},
   "source": [
    "#### What do you notice about the data? Is it what you expected?\n",
    "\n",
    "**Below is what your code should look like to this point:"
   ]
  },
  {
   "cell_type": "code",
   "execution_count": null,
   "metadata": {
    "collapsed": false
   },
   "outputs": [],
   "source": [
    "# Import Modules\n",
    "import arcpy\n",
    "import csv\n",
    "\n",
    "\n",
    "# Parameters\n",
    "\n",
    "# Path to the input feature class or standalone table\n",
    "# Replace the '...' with the location where you placed your downloaded data\n",
    "# input_table = r\"C:\\...\\Data\\Illinois.gdb\\Illinois_Counties\"\n",
    "input_table = r\"C:\\Users\\jvwhit\\Documents\\ILGISA\\Data\\Answers_Adv\\Illinois.gdb\\Illinois_Counties\"\n",
    "\n",
    "# Path to the output CSV file (this CSV file will not exist)\n",
    "# Replace the '...' with the location where you placed your downloaded data\n",
    "# output_csv = r\"C:\\...\\Data\\CSV\\Illinois_Counties.csv\"\n",
    "output_csv = r\"C:\\Users\\jvwhit\\Documents\\ILGISA\\Data\\Answers_Adv\\CSV\\Illinois_Counties.csv\"\n",
    "\n",
    "\n",
    "# Processes\n",
    "\n",
    "# Read in a feature class or standalone table\n",
    "# Read the feature class or standalone table field names\n",
    "field_list = [field.name for field in arcpy.ListFields(input_table) if field.name != \"Shape\"] # Added an if statement\n",
    "\n",
    "print(field_list) # Do this to make sure it works\n",
    "\n",
    "# Read the data\n",
    "data = []\n",
    "with arcpy.da.SearchCursor(input_table, field_list) as cursor:\n",
    "    for row in cursor:\n",
    "        data.append(list(row)) # Added a list function to conver the tuple\n",
    "\n",
    "print(data[:10]) # Print the first 10 rows to check the data\n",
    "        \n",
    "\n",
    "# Write the field names to a new CSV file\n",
    "# Write the data to the new CSV file"
   ]
  },
  {
   "cell_type": "markdown",
   "metadata": {},
   "source": [
    "**Now it's time to write the data to a CSV file...but we need to remeber how to write the data (I promised you I would do this!!).**\n",
    "\n",
    "### Review: Writing CSV Files\n",
    "\n",
    "* **`csv.writer(file object)`** to create a writing object\n",
    "* **`writerow(row)`** to write a single row\n",
    "* **`writerows(list of lists)`** to write many rows"
   ]
  },
  {
   "cell_type": "code",
   "execution_count": null,
   "metadata": {
    "collapsed": false
   },
   "outputs": [],
   "source": [
    "# Processes\n",
    "\n",
    "# Write the field names to a new CSV file\n",
    "# Write the data to the new CSV file\n",
    "with open(output_csv, 'wb') as csv_file: # For some reason, 'w' add an extra line between rows...\n",
    "    \n",
    "    csv_file = csv.writer(csv_file) # Creates a CSV writer object\n",
    "    csv_file.writerow(field_list) # Writes out one line: the fields\n",
    "    csv_file.writerows(data) # Writes out all data from the list of lists\n",
    "\n",
    "print(\"Finished! Open the file located at {}\".format(output_csv)) # Lets you know that the script is finished"
   ]
  },
  {
   "cell_type": "markdown",
   "metadata": {},
   "source": [
    "## Challenge: \n",
    "\n",
    "### How might you cahgne the code to write out the field aliases instead of field names?\n",
    "\n",
    "### How might you give the user an option to choose between aliases and names?\n",
    "---"
   ]
  },
  {
   "cell_type": "markdown",
   "metadata": {},
   "source": [
    "# Break\n",
    "---"
   ]
  },
  {
   "cell_type": "markdown",
   "metadata": {},
   "source": [
    "\n",
    "# IV. Python vs. ModelBuilder\n",
    "---\n",
    "\n",
    "## Scenario:\n",
    "\n",
    "You developed a model in **ModelBuilder** for a common geoprocessing workflow that many people use in your organization. However, your fellow GIS users are asking for some more sofisticated functionality that ModelBuilder cannot perform. Therefore, you think Python will do the trick! How can you assess this whether the ROI is worth the effort?\n",
    "\n",
    "### Comparing Python and ModelBuilder\n",
    "\n",
    "\n",
    "| Python | ModelBuilder |\n",
    "| --- | --- |\n",
    "| Textual programming language | Visual Programming language |\n",
    "| Easy to learn with very flexible structure | Relativiely easier to learn for GIS beginners, but restrictive structure |\n",
    "| Python scripts can be used in ModelBuilder | ModelBuilder can export to Python (but not vice versa) |\n",
    "| Lower-level geoprocessing tasks (e.g. cursors) | Lower-level geoprocessing tasks may not be possible |\n",
    "| More advanced error handling | Errors handled by the tools in the model |\n",
    "| Better for iterations and loops | Can do iterations and loops, but can be difficult to setup properly |\n",
    "| Can use other Python modules and wrap other software (e.g. R) | Restricted by ArcToolbox tools |\n",
    "| Can run Python scripts outside of ArcGIS | ModelBuilder works when ArcGIS is running |\n",
    "\n"
   ]
  },
  {
   "cell_type": "markdown",
   "metadata": {},
   "source": [
    "## Converting ModelBuilder Tools to Python Scripts\n",
    "\n",
    "** If you decide you want to create a script, you can start by export a ModelBulider model tool to a Python script. This will give you a great head start!**\n",
    "\n",
    "### Open the Model Named 'Illinois in Jeopardy' in edit mode (right-click > Edit...)\n",
    "\n",
    "### Convert the Model to a Python Script\n",
    "\n",
    "### Open the new script in the IDE"
   ]
  },
  {
   "cell_type": "markdown",
   "metadata": {},
   "source": [
    "# V. Automating Geoprocesses with Standalone Scripts\n",
    "\n",
    "### Senario:\n",
    "\n",
    "Your supervisor is a huge **Jeopardy!** fan (he watches it every night!). To make matters worse, he has compiled a list of all of the **Jeopardy!** contestants on his nerdy website (It's probably a Blogspot site from 2003!). He's learnign GIS so he was able to find latitude and longitude values for contestants' home towns. He shared his CSV file with you containing all the contestants from the state of Illinois and has asked you to map them out and determine how wealthy their home county is and how many contestants came from each county. \n",
    "\n",
    "Your supervisor has recently discovered the beauty of geodatabases, as opposed to Shapefiles, so he definitely wants a file geodatabase feature class. But, you know he is prone to changing his mind, and you suspect he will ask you for a Shapefile the next time (and he will probalby want all of his contestants mapped the next time!).\n",
    "\n",
    "Since you took this GIS Python workshop, you decide it might best for you write a script...and one that allows him to choose which format, shapefile or a FGDB feature class. You also need to impressive your boss so your job isn't in Jeopardy! (Is that going too far...?). \n"
   ]
  },
  {
   "cell_type": "markdown",
   "metadata": {},
   "source": [
    "### 1. Create a new script in your IDE\n",
    "\n",
    "### 2. Add the pseudo code below as comments in the script\n",
    "\n",
    "### 3. Save it to the 'Scripts' folder named as *IllinoiInJeopardy.py*\n"
   ]
  },
  {
   "cell_type": "code",
   "execution_count": null,
   "metadata": {
    "collapsed": true
   },
   "outputs": [],
   "source": [
    "#-------------------------------------------------------------------------------\n",
    "# Name:        IllinoiInJeopardy.py.py\n",
    "# Purpose:     <Some important purpose.>\n",
    "# Author:      <Name, Your>\n",
    "# Created:     17/10/2016\n",
    "# Copyright:   (c) <Your Name> 2016\n",
    "# Licence:     <licence>\n",
    "#-------------------------------------------------------------------------------\n",
    "\n",
    "# Import Modules\n",
    "\n",
    "# Parameters\n",
    "\n",
    "# Environments\n",
    "    \n",
    "# Variables\n",
    "\n",
    "# Processes\n"
   ]
  },
  {
   "cell_type": "markdown",
   "metadata": {},
   "source": [
    "### 4. What are the steps needed to create the script (i.e. the pseudo code in plain language)?\n",
    "\n",
    "**Pseudo Code**\n",
    "\n",
    "* Copy CSV table to geodatabase stand-alone table\n",
    "* Convert table to XY Layer\n",
    "* Make the XY Layer a permanent point feature class or shapefile based on user input\n",
    "* Intersect the points with counties layer and include all fields from both layers\n",
    "* Sum the number of contestants from each county and total winnings and output as a table\n",
    "\n",
    "\n",
    "### 5. Add the pseudo code to the `# Processes` seciton of the script\n"
   ]
  },
  {
   "cell_type": "code",
   "execution_count": null,
   "metadata": {
    "collapsed": true
   },
   "outputs": [],
   "source": [
    "# Processes\n",
    "\n",
    "# Copy CSV table to geodatabase stand-alone table\n",
    "\n",
    "# Convert table to XY Layer\n",
    "\n",
    "# Make the XY Layer a permanent point feature class or shapefile based on user input\n",
    "\n",
    "# Intersect the points with counties layer and include all fields from both layers\n",
    "\n",
    "# Sum the number of contestants from each county and total winnings and output as a table\n"
   ]
  },
  {
   "cell_type": "markdown",
   "metadata": {},
   "source": [
    "### 6. What modules and user parameter inputs and outputs are needed?\n",
    "\n",
    "**Add the following `import` statements and parameter variables to your script *above the previous pseudo code***\n"
   ]
  },
  {
   "cell_type": "code",
   "execution_count": null,
   "metadata": {
    "collapsed": true
   },
   "outputs": [],
   "source": [
    "# Import Modules\n",
    "import arcpy\n",
    "\n",
    "\n",
    "# Parameters\n",
    "\n",
    "# Inputs:\n",
    "# CSV File with XY coordinates\n",
    "# Replace the '...' with the location where you placed your downloaded data\n",
    "csv_file = r'C:\\...\\Data\\CSV\\JeopardyContestants_LatLon.csv'\n",
    "\n",
    "# Fields that holds the lat and long values\n",
    "lon = 'lon' # this is the x value\n",
    "lat = 'lat' # this is the y value\n",
    "\n",
    "# Spatial reference CSV XY coordinates\n",
    "csv_spatialref = arcpy.SpatialReference('WGS 1984')\n",
    "\n",
    "# Counties feature class\n",
    "counties = 'Illinois_Counties'\n",
    "\n",
    "# Outputs:\n",
    "# Contestants Intersect Feature Class or Shapefile\n",
    "fc_output = 'JeopardyContestants_Income'\n",
    "\n",
    "# Sum of Contestants by County Table\n",
    "tbl_output = 'JeopardyContestants_ByCounty'"
   ]
  },
  {
   "cell_type": "markdown",
   "metadata": {},
   "source": [
    "### 7. Set the Environment Settings \n",
    "\n",
    "**Now we're ready to write our script! But first, we need to do some house keeping!**\n",
    "\n",
    "### Review: Environmental Settings\n",
    "\n",
    "*See http://desktop.arcgis.com/en/desktop/latest/tools/environments/what-is-a-geoprocessing-environment.htm*\n",
    "\n",
    "*See http://desktop.arcgis.com/en/desktop/latest/tools/environments/environment-levels-and-hierarchy.htm*\n"
   ]
  },
  {
   "cell_type": "code",
   "execution_count": null,
   "metadata": {
    "collapsed": false
   },
   "outputs": [],
   "source": [
    "# Execute this code to see the result...\n",
    "\n",
    "print(arcpy.ListEnvironments())\n",
    "\n",
    "# Comment out the code or delete it when done"
   ]
  },
  {
   "cell_type": "markdown",
   "metadata": {},
   "source": [
    "### Add a workspace as an environment\n",
    "\n",
    "Add the following code below the **`# Environments`** comment"
   ]
  },
  {
   "cell_type": "code",
   "execution_count": null,
   "metadata": {
    "collapsed": true
   },
   "outputs": [],
   "source": [
    "# Environments\n",
    "\n",
    "# Replace the '...' with the location where you placed your downloaded data\n",
    "arcpy.env.workspace = r'C:\\...\\Data\\Illinois.gdb'\n",
    "arcpy.env.overwriteOutput = True\n"
   ]
  },
  {
   "cell_type": "markdown",
   "metadata": {},
   "source": [
    "### 8. Add Geoprocessing Tools\n",
    "\n",
    "**Type the following code in the IDE script after the matching pseudo code:**\n"
   ]
  },
  {
   "cell_type": "code",
   "execution_count": null,
   "metadata": {
    "collapsed": true
   },
   "outputs": [],
   "source": [
    "# Copy CSV table to geodatabase stand-alone table\n",
    "\n",
    "xy_table = 'JeopardyContestants_Table'\n",
    "\n",
    "arcpy.CopyRows_management(csv_file, xy_table)\n",
    "\n"
   ]
  },
  {
   "cell_type": "markdown",
   "metadata": {},
   "source": [
    "#### Why type when you can copy from an exisitng script!    "
   ]
  },
  {
   "cell_type": "code",
   "execution_count": null,
   "metadata": {
    "collapsed": true
   },
   "outputs": [],
   "source": [
    "# Convert table to XY Layer\n",
    "\n",
    "xy_layer = 'Jeopardy Contestants'\n",
    "\n",
    "arcpy.MakeXYEventLayer_management(xy_table, lon, lat, xy_layer, csv_spatialref)\n"
   ]
  },
  {
   "cell_type": "markdown",
   "metadata": {},
   "source": [
    "#### Test the tool in ArcMap, then 'Copy as Python Snippet'\n",
    "\n",
    "#### On your Own, add the code for last two processes using any method  "
   ]
  },
  {
   "cell_type": "markdown",
   "metadata": {},
   "source": [
    "## Handling Errors and Debugging\n",
    "\n",
    "### Three types of errors in Python\n",
    "  \n",
    "### What is debugging?\n",
    "\n",
    "### Add some `print()` statements to the code"
   ]
  },
  {
   "cell_type": "code",
   "execution_count": null,
   "metadata": {
    "collapsed": true
   },
   "outputs": [],
   "source": [
    "# Copy CSV table to geodatabase stand-alone table\n",
    "\n",
    "xy_table = 'JeopardyContestants_Table'\n",
    "\n",
    "arcpy.CopyRows_management(csv_file, xy_table)\n",
    "\n",
    "print('{} converted to table.'.format(arcpy.Describe(csv_file).name))"
   ]
  },
  {
   "cell_type": "markdown",
   "metadata": {},
   "source": [
    "### Handeling Errors Using conditional statements\n",
    "* Replace the following code for the identified process\n",
    "* Note the indents after the **`if:`** statement\n",
    "* Try to test the error by changing a field name"
   ]
  },
  {
   "cell_type": "code",
   "execution_count": null,
   "metadata": {
    "collapsed": true
   },
   "outputs": [],
   "source": [
    "# Processes\n",
    "# ...\n",
    "\n",
    "# Convert table to XY Layer\n",
    "\n",
    "field_list = [field.name for field in arcpy.ListFields(xy_table)]\n",
    "\n",
    "if lat in field_list and lon in field_list:\n",
    "    print('{} and {} fields exist'.format(lat, lon))\n",
    "    \n",
    "else:\n",
    "    print('{} or {} fields DO NOT exist. Check field names.'.format(lat, lon))\n",
    "\n",
    "xy_layer = 'Jeopardy Contestants'\n",
    "\n",
    "arcpy.MakeXYEventLayer_management(xy_table, lon, lat, xy_layer)\n",
    "\n",
    "print('XY Layer created')\n"
   ]
  },
  {
   "cell_type": "markdown",
   "metadata": {},
   "source": [
    "### Handeling Errors Using `try:` and `except:`\n",
    "\n",
    "* **`try:`** and **`except:`** statements are used for when you don't want your script to stop if there is an error\n",
    "```python\n",
    "    try:\n",
    "        # Some code that might have an error...\n",
    "        print(\"two\" + 2)\n",
    "        \n",
    "    except:\n",
    "        print(\"Error!\")\n",
    "```\n",
    "* Note the indents after the **`try:`** and **`except:`** statements\n",
    "\n",
    "\n",
    "**Add the following `try:` and `except:` statement before executing the processes to test the error.**\n"
   ]
  },
  {
   "cell_type": "code",
   "execution_count": null,
   "metadata": {
    "collapsed": false
   },
   "outputs": [],
   "source": [
    "# Processes\n",
    "\n",
    "try:\n",
    "\n",
    "    # Indent all processes...\n",
    "    \n",
    "    # Copy CSV table to geodatabase stand-alone table\n",
    "\n",
    "    xy_table = 'JeopardyContestants_Table'\n",
    "\n",
    "    arcpy.CopyRows_management(csv_file, xy_table)\n",
    "\n",
    "    print(arcpy.Describe(csv_file).name + ' converted to table.')\n",
    "\n",
    "    # Convert table to XY Layer\n",
    "\n",
    "    field_list = [field.name for field in arcpy.ListFields(xy_table)]\n",
    "\n",
    "    if lat in field_list and lon in field_list:\n",
    "        print('{} and {} fields exist'.format(lat, lon))\n",
    "    else:\n",
    "        print('{} or {} fields DO NOT exist. Check field names.'.format(lat, lon))\n"
   ]
  },
  {
   "cell_type": "markdown",
   "metadata": {},
   "source": [
    "**Add the following geoprocessing tool and the except statements at the end of the script.**"
   ]
  },
  {
   "cell_type": "code",
   "execution_count": null,
   "metadata": {
    "collapsed": true
   },
   "outputs": [],
   "source": [
    "# Sum the number of contestants from each county and total winnings and output as a table\n",
    "\n",
    "    arcpy.Frequency_analysis(fc_output, tbl_output, 'NAME_1', 'totalwinnings')\n",
    "\n",
    "    print('Contestants by county summary complete. Script complete.')\n",
    "\n",
    "# Print any errors from any geoprocessing tools if they fail\n",
    "except arcpy.ExecuteError:\n",
    "    print(arcpy.GetMessages(2))\n",
    "    print('Could not complete script')\n",
    "\n",
    "# Add a general error print statement\n",
    "except:\n",
    "    print('Could not complete script')"
   ]
  },
  {
   "cell_type": "markdown",
   "metadata": {},
   "source": [
    "# VI. Adding Python Script Tools to Toolboxes\n",
    "\n",
    "## Senario:\n",
    "\n",
    "Your supervisor so impressed by your script that he has asked you map his ***ALL*** the **Jeopardy!** contestants! You expect this will be aregular occurance, so now you want to figure out how to get that script into an ArcGIS toolbox for him and others to use.\n",
    " "
   ]
  },
  {
   "cell_type": "markdown",
   "metadata": {},
   "source": [
    "## Creating and sharing scripts with custom ArcGIS toolboxes\n",
    "\n",
    "### Two ways to run a script:\n",
    "\n",
    "### Advantages to using script tools over standalone scripts:\n",
    "\n",
    "### Steps to creating a tool\n",
    "\n",
    "\n",
    "*Note: You will also notice options for Python Toolboxes. These are more advanced and allow additional capabilities. However, they are beyond the scope of this workshop.*\n",
    "\n",
    "Help Documentation: http://desktop.arcgis.com/en/desktop/latest/analyze/creating-tools/a-quick-tour-of-creating-tools-in-python.htm\n"
   ]
  },
  {
   "cell_type": "markdown",
   "metadata": {},
   "source": [
    "## Modify Script Inputs and Outputs to Be Used in the Script Tool\n",
    "\n",
    "* Inputs and outputs use the **`arcpy.GetParameterAsText(<index>)`** funtion to pass variable between the tool and the script.\n",
    "* All inputs and outputs must be modified to utilize tools\n",
    "\n",
    "### 1. In the IDE, save a copy (i.e. save as...) of your stand-alone script and add '_ScriptTool.py' to the name\n",
    "\n",
    "### 2. Modify the scripts code to align with the code below\n",
    "* Part 1: Inputs and outputs converted to user input parameters\n",
    "* Part 2: Environments are managed by the tool\n",
    "* Part 3: Replace all Print Statements with **`arcpy.AddMessage`**; this prints messages to the Results window in ArcMap"
   ]
  },
  {
   "cell_type": "code",
   "execution_count": null,
   "metadata": {
    "collapsed": true
   },
   "outputs": [],
   "source": [
    "# Parameters\n",
    "\n",
    "# Inputs:\n",
    "# CSV File with XY coordinates\n",
    "csv_file = arcpy.GetParameterAsText(0) #r'C:\\...\\Data\\CSV\\JeopardyContestants_LatLon.csv' # Replace the '...' with the location where you placed your downloaded data\n",
    "\n",
    "# Fields that holds the lat and long values\n",
    "lon = arcpy.GetParameterAsText(1) # 'lon' # this is the x value\n",
    "lat = arcpy.GetParameterAsText(2) #'lat' # this is the y value\n",
    "\n",
    "# Spatial reference CSV XY coordinates\n",
    "csv_spatialref = arcpy.GetParameterAsText(3) # arcpy.SpatialReference('WGS 1984')\n",
    "\n",
    "# Counties feature class\n",
    "counties = arcpy.GetParameterAsText(4) #'Illinois_Counties'\n",
    "\n",
    "# Outputs:\n",
    "# Contestants Intersect Feature Class or Shapefile\n",
    "fc_output = arcpy.GetParameterAsText(5) # 'JeopardyContestants_Income'\n",
    "\n",
    "# Sum of Contestants by County Table\n",
    "tbl_output = arcpy.GetParameterAsText(6) # 'JeopardyContestants_ByCounty'\n",
    "\n",
    "\n",
    "# Environments \n",
    "# Managed by the tool, so we can comment out\n",
    "#arcpy.env.workspace = r'C:\\...\\Data\\Illinois.gdb' # Replace the '...' with the location where you placed your downloaded data\n",
    "#arcpy.env.overwriteOutput = True\n",
    "\n",
    "\n",
    "# ..............................\n",
    "\n",
    "# Below is an example; be sure to change all print statements\n",
    "\n",
    "# Convert table to XY Layer\n",
    "\n",
    "    field_list = [field.name for field in arcpy.ListFields(xy_table)]\n",
    "\n",
    "    if lat in field_list and lon in field_list:\n",
    "        arcpy.AddMessage('{} and {} fields exist'.format(lat, lon))\n",
    "\n",
    "    else:\n",
    "        arcpy.AddMessage('{} or {} fields DO NOT exist. Check field names.'.format(lat, lon))\n"
   ]
  },
  {
   "cell_type": "markdown",
   "metadata": {},
   "source": [
    "## Add a Script to a Toolbox\n",
    "\n",
    "* Inputs and outputs are actually passed as text strings\n",
    "* The script tool allows for those text strings to be pre-validated before using them in the script\n",
    "* This is essentially a form of error handeling\n",
    "\n",
    "### 1. In the Catalog window in ArcMap, right-click on the custom toolbox and hover over 'Add' and click 'Script...'\n",
    "This will activate the Add Script wizard\n",
    "\n",
    "### 2. Add/Edit script tool properties\n",
    "\n",
    "* Name: IllinoisInJeopardyScript\n",
    "* Label and Description: Illinois in Jeopardy Script (Final)\n",
    "* Check 'Store relative path names...'\n",
    "* Check 'Always run in foreground' (for now...)\n",
    "\n",
    "### 3. Add the script file (.py)\n",
    "\n",
    "* Add the script ending in '_ScriptTool.py'.\n",
    "* Check 'Run Python script in process'\n",
    "\n",
    "### 4. Add inputs and outputs\n",
    "\n",
    "* Reference the script for all inputs and outputs\n",
    "* Add descriptitive names - spaces are ok\n",
    "* Choose the correct and expected data types for the inputs and outputs\n",
    "* Set up the appropriate parrameter properties\n",
    "\n",
    "**Hints:**\n",
    "\n",
    "* For the CSV file, note that there are many data types that could be used. \n",
    "  * What is the best one?\n",
    "  * You may need to experiment\n",
    "  * It is helpful to check the help documentation of the tools you are using to help determine data types\n",
    "* For the lat and lon fields:\n",
    "  * Filter the input to number fields only\n",
    "  * You can read in the fields from the CSV file to create a drop-down list of usable fields\n",
    "* Yes, there is a spatial reference data type!\n",
    "* For the county layer with income, there is more than one data type choice. Which is the best?\n",
    "* Don't forget to change the Direction property for outputs\n",
    "\n",
    "### 5. Run and test the script tool\n",
    "* What messages were returned?\n",
    "* Learn how to add warning and error messages to the tool output: http://desktop.arcgis.com/en/desktop/latest/analyze/creating-tools/writing-messages-in-script-tools.htm\n",
    "* Try outputting a shapefile and DBF table in a folder\n",
    "* Did it work? If it didn't, how can you fix this?\n",
    "\n",
    "### 6. Edit and debug the tool as needed\n",
    "* Shapefiles??? \n",
    "* Are there any outputs you don't want to keep? \n",
    "* Try adding code to delete those unwanted feature classes\n",
    "* Or learn about the `in_memory` workspace: http://desktop.arcgis.com/en/desktop/latest/analyze/modelbuilder/the-in-memory-workspace.htm\n",
    "* If there are no errors now, just wait until people start using it a lot...they'll find them if they exist! This is an iterative process\n",
    "\n",
    "### 7. Share the tool\n",
    "\n",
    "* Make sure the script and/or script folder is easily accessible by the toolbox and tool (i.e. let relative paths work for you)...Zip and ship!\n",
    "* Try embedding the script\n",
    "\n",
    "Help Documentation: http://desktop.arcgis.com/en/desktop/latest/analyze/sharing-workflows/a-quick-tour-of-sharing-tools.htm\n",
    "Oldie, but a goodie: http://help.arcgis.com/en/arcgisdesktop/10.0/help/#/A_structure_for_sharing_tools/005700000004000000/"
   ]
  },
  {
   "cell_type": "markdown",
   "metadata": {},
   "source": [
    "# Conclusion and Moving Forward\n",
    "\n",
    "## Exapnd on today's scripts\n",
    "\n",
    "* Learn about modifying the script tool documentation and metadata: http://desktop.arcgis.com/en/desktop/latest/analyze/creating-tools/a-quick-tour-of-documenting-tools-and-toolboxes.htm\n",
    "* Try to combine the morning and afternoon final scripts to create a 'mega' script\n",
    "\n",
    "\n",
    "## Start using python in your everyday workflows!\n",
    "\n",
    "* Resist the temptation to fall back on ModelBuilder\n",
    "* Read Python and ArcPy documentation...and read it again!\n",
    "* Collaborate with and try to teach colleagues\n",
    "* Get involved with a local development group...Esri has some\n"
   ]
  },
  {
   "cell_type": "code",
   "execution_count": null,
   "metadata": {
    "collapsed": true
   },
   "outputs": [],
   "source": [
    "print(\"Thank you! Goodbye!\")"
   ]
  }
 ],
 "metadata": {
  "anaconda-cloud": {},
  "kernelspec": {
   "display_name": "Python [conda env:arc1041]",
   "language": "python",
   "name": "conda-env-arc1041-py"
  },
  "language_info": {
   "codemirror_mode": {
    "name": "ipython",
    "version": 2
   },
   "file_extension": ".py",
   "mimetype": "text/x-python",
   "name": "python",
   "nbconvert_exporter": "python",
   "pygments_lexer": "ipython2",
   "version": "2.7.10"
  }
 },
 "nbformat": 4,
 "nbformat_minor": 0
}
