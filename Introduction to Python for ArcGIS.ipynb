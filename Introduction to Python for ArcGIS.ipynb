{
 "cells": [
  {
   "cell_type": "markdown",
   "metadata": {},
   "source": [
    "# Introduction to Python for ArcGIS\n",
    "---\n",
    "## Description\n",
    "\n",
    "Programming tools are now a standard feature within GIS software packages and allow GIS users to automate, speed up, and become more precise in their data management and analytic work. This workshop is designed for GIS users who have little to no experience with computer programming and will cover core programming concepts related to GIS using the Python programming language. The workshop will focus on guiding attendees through hands-on exercises designed to provide the essential skills to programmatically manipulate data as part of a GIS workflow. This workshop is designed to be preparation for the afternoon workshop on **Advanced Python for ArcGIS, but may be taken independently**.\n",
    "\n",
    "### Specific Topics Include:\n",
    "* Core Python programming concepts\n",
    "* Introduction to ArcPy site package for ArcGIS\n",
    "* Working with geospatial data using Python and ArcPy\n",
    "* Simple data management and geoprocessing tasks\n",
    "\n",
    "\n",
    "## Computing and Software Needs\n",
    "\n",
    "* Your own laptop; computers will not be provided.\n",
    "\n",
    "* ArcGIS Desktop 10.x (Standard or Advanced preferred)\n",
    "\n",
    "* Python IDE\n",
    "    * <a href=\"http://sourceforge.net/projects/pyscripter/files/\" target=\"_blank\">PyScripter</a> (v. 2.6.0 **32-bit** version)\n",
    "        * *NOTE:* The zip files contain portable versions of PyScripter.   No installation is needed. Just unzip the archive and start using PyScripter.\n",
    "\n",
    "    * <a href=\"https://docs.python.org/2/library/idle.html\" target=\"_blank\">IDLE</a> is also shipped with ArcGIS for Desktop, so it can also be used\n",
    "\n",
    "\n",
    "## Instructor\n",
    "\n",
    "**James Whitacre**, GIS Specialist, University Library, University of Illinois at Urbana-Champaign\n",
    "\n",
    "As the GIS Specialist in the Main Library at the University of Illinois at Urbana-Champaign, Mr. Whitacre's primary role is to provide GIS consultation and research assistance for faculty, staff, and students. Additionally, he teaches a myriad of GIS workshops for beginner to advanced users and helps manage the Library's GIS data and software assets. He is also a central resource for the GIS community on campus to promote the use of GIS in research. Mr. Whitacre holds a Master of Science in Geography and was previously the GIS Manager for the Carnegie Museum of Natural History.\n"
   ]
  },
  {
   "cell_type": "markdown",
   "metadata": {},
   "source": [
    "# I. Introductions and Outline\n",
    "---\n",
    "\n",
    "## Outline\n",
    "\n",
    "### Data and Software Setup\n",
    "\n",
    "### What is Python?\n",
    "\n",
    "* Print Statement\n",
    "* Variables \n",
    "* Basic Data types\n",
    "    * Strings\n",
    "    * Numbers\n",
    "    * Lists\n",
    "    * Tuples\n",
    "    * Dictionaries\n",
    "    * Booleans\n",
    "* Data Type Conversions\n",
    "* Simple Math with Python\n",
    "* Python Basic Syntax\n",
    "* Conditional Statements\n",
    "* Functions\n",
    "* Loops\n",
    "\n",
    "\n",
    "### Calculate Fields Using Python\n",
    "\n",
    "### Break\n",
    "\n",
    "### Introduction to ArcPy\n",
    "\n",
    "* What is ArcPy?\n",
    "* Modules vs. Site Packages\n",
    "* `import` Statements\n",
    "* Utilizing the ArcPy ArcGIS Desktop Help Documentation\n",
    "\n",
    "### Using ArcPy in the ArcMap Python Window\n",
    "\n",
    "* The Python Window\n",
    "* Describing Data with ArcPy\n",
    "    * System Paths vs. Catalog paths\n",
    "* Listing Data with ArcPy\n",
    "    * Environmental Settings\n",
    "    * List comprehensions\n",
    "* Geoprocessing Tools with ArcPy\n",
    "\n",
    "### Conclusion\n"
   ]
  },
  {
   "cell_type": "markdown",
   "metadata": {},
   "source": [
    "# II. Data and Software Setup\n",
    "---"
   ]
  },
  {
   "cell_type": "markdown",
   "metadata": {},
   "source": [
    "## Download Exercise Data\n",
    "\n",
    "### https://uofi.box.com/ILGISA-Python\n",
    "\n",
    "* Extract the data to a folder on the Desktop or other well-known folder\n",
    "* For folks who can't download the files, we have it on a flash drive\n"
   ]
  },
  {
   "cell_type": "markdown",
   "metadata": {},
   "source": [
    "## Python IDE: PyScripter\n",
    "\n",
    "* Download <a href=\"http://sourceforge.net/projects/pyscripter/files/\" target=\"_blank\">PyScripter</a> (v. 2.6.0 **32-bit** version)\n",
    "* Open PyScripter: Two Ways...\n",
    "    * Install it like a normal program\n",
    "        * Download **PyScripter-v2.6.0-Setup.exe**, run the install file, open program\n",
    "        * Admin privileges needed\n",
    "\n",
    "    * Run the portable version\n",
    "        * Download **PyScripter-v2.6.0.zip**, extract, and run **PyScripter.exe**\n",
    "        * Admin privileges *NOT* needed\n",
    "\n",
    "* Already using a Python IDE? If you feel comfortable in your own envirionment, please use it, but there is no guarantee that issues can be supported\n",
    "\n",
    "\n",
    "* If all esle fails, you may need to use IDLE, which ships with ArcGIS Desktop and is installed automatically\n",
    "\n",
    "\n",
    "* Let's take a quick tour!\n",
    "    * Editor\n",
    "    * Code explorer\n",
    "    * Interpreter\n",
    "    * Messages\n",
    "    * Add line numbers: Tools > Options > Editor Options\n",
    "    * Change the theme: View > Themes > Choose your favorite!!\n",
    "\n",
    "<img src = \"images\\PyScripter_UI.png\"/>\n",
    "\n",
    "### Type the code below and run it. \n",
    "\n",
    "#### I will give an explanation of concepts, then have code examples that can be run in the IDE in the grey boxes.\n",
    "\n",
    "#### Please *type* the code as we go and try to avoid copy and pasting unless instructed otherwise. Typing the code will help you learn it better!\n",
    "\n",
    "#### When typing in the IDE, you will likely notice the auto complete functionality. Mastering this will help type code faster and with less mistakes. I will point out tips as we go.\n",
    "\n",
    "#### Maybe this is your first code!!!\n"
   ]
  },
  {
   "cell_type": "code",
   "execution_count": null,
   "metadata": {
    "collapsed": false
   },
   "outputs": [],
   "source": [
    "print(\"hello world\")"
   ]
  },
  {
   "cell_type": "markdown",
   "metadata": {},
   "source": [
    "# III. What is Python?\n",
    "---\n",
    "\n",
    "* Python is an interpreted, object-oriented, high-level programming language with dynamic semantics\n",
    "* Good for scripting and for application development\n",
    "* Simple, easy to learn syntax emphasizing readability (**Great for beginners!!!**)\n",
    "* Has high-level built in data structures\n",
    "* Supports modules and packages, which encourages program modularity and code reuse\n",
    "* Increases productivity due to no compilation step\n",
    "* Debugging Python programs is easy; often the quickest way to debug a program is to add a few print statements to the source\n",
    "* Open-source and freely distributed\n",
    "\n",
    "*See <a href=\"https://www.python.org/doc/essays/blurb/\" target=\"_blank\">Python Software Foundation: What is Python Executive Summary</a> for more information*\n",
    "\n",
    "*Also see http://desktop.arcgis.com/en/arcmap/latest/analyze/python/what-is-python-.htm*\n",
    "\n",
    "## Some General Notes\n",
    "\n",
    "* Learning a programming language is like like learning a new foreign language\n",
    "    * There is grammar, or syntax\n",
    "    * There is vocabulary, or tools, functions, methods, and modules\n",
    "    * It's a new way of thinking\n",
    "* People will refer to good code as being *'Pythonic'*\n",
    "* You may feel lost at first...practice and perseverence will help (I will try to go slow!)\n",
    "* Just like in ArcGIS, there is more than one way to do many things!\n",
    "\n",
    "**Disclaimer: The way I teach Python is specific to ArcGIS and covers the most important elements I have found it to be helpful for beginners. Other Python instructors might emphasize other aspects more than I may.**"
   ]
  },
  {
   "cell_type": "markdown",
   "metadata": {},
   "source": [
    "# IV. Python Basics\n",
    "---"
   ]
  },
  {
   "cell_type": "markdown",
   "metadata": {},
   "source": [
    "### Print Statement\n",
    "\n",
    "* What is print statement?\n",
    "    * A way to make your script talk back to you\n",
    "    * A way to see what a variable is\n",
    "\n",
    "\n",
    "* How to use the print statement\n",
    "    * Type `print ` or `print()`*\n",
    "    * Add the variable or string after `print` or within the parentheses `()`\n",
    "\n",
    "*Using just `print` without `()` is proper syntax in Python 2.x, but getting in the habit of usng `print()` will prepare you for Python 3.x and ArcGIS Pro, which is the only way `print()` will work"
   ]
  },
  {
   "cell_type": "code",
   "execution_count": null,
   "metadata": {
    "collapsed": false,
    "scrolled": true
   },
   "outputs": [],
   "source": [
    "print \"Python is so cool!\""
   ]
  },
  {
   "cell_type": "code",
   "execution_count": null,
   "metadata": {
    "collapsed": false,
    "scrolled": false
   },
   "outputs": [],
   "source": [
    "print(\"Python is so cool!\")"
   ]
  },
  {
   "cell_type": "markdown",
   "metadata": {},
   "source": [
    "### Variables\n",
    "\n",
    "* What is a variable?\n",
    "    * Reserved memory locations to store values for repeated use in the code\n",
    "    * When you create a variable you reserve space in memory for the value\n",
    "    * Stored as a specific data type (e.g. string, integer, floating point, etc.)\n",
    "    * Value and data type can be changed, or reassigned, if coded to\n",
    "\n",
    "* How to set, or declare, a variable\n",
    "    * No explicit declaration needed\n",
    "    * Type a descriptive word that represent what you want to store for use later\n",
    "    * Type the equals sign: `=`\n",
    "    * Type what the variable equals\n"
   ]
  },
  {
   "cell_type": "code",
   "execution_count": null,
   "metadata": {
    "collapsed": false
   },
   "outputs": [],
   "source": [
    "food = \"cheese\"\n",
    "\n",
    "food_count = 6\n",
    "\n",
    "print(food)\n",
    "print(food_count)"
   ]
  },
  {
   "cell_type": "code",
   "execution_count": null,
   "metadata": {
    "collapsed": false
   },
   "outputs": [],
   "source": [
    "# cool tips...\n",
    "\n",
    "food, food_count = \"bread\", 100\n",
    "\n",
    "print(food)\n",
    "print(food_count)\n",
    "\n",
    "food1 = food2 = food3 = \"banana\"\n",
    "\n",
    "print(food1)\n",
    "print(food2)\n",
    "print(food3)"
   ]
  },
  {
   "cell_type": "markdown",
   "metadata": {},
   "source": [
    "### Basic Data Types\n",
    "\n",
    "| Data Type | Examples |\n",
    "| --- | ---|\n",
    "| String | **`“cheese”`** or **`'Food Time'`** |\n",
    "| Integer Number | **`68`** or **`23456`** or **`0`** |\n",
    "| Float Number | **`345.67`** or **`28.1`** or **`98.0`** |\n",
    "| Boolean | **`True`** or **`False`** |\n",
    "| List | **`[“apple”, “orange”]`** |\n",
    "| Tuple | **`(“apple”, “orange”)`** |\n",
    "| Dictionary | **`{“lat”:39.799, “lon”:-89.64}`** |\n"
   ]
  },
  {
   "cell_type": "markdown",
   "metadata": {
    "collapsed": true
   },
   "source": [
    "### Strings\n",
    "\n",
    "* What is a string?\n",
    "    * Contiguous set of characters represented in quotation marks\n",
    "    * Simply put, it is text values\n",
    "    * Number characters are not treated like numbers (i.e. `1 != \"1\"`)\n",
    "\n",
    "\n",
    "* What can you do with a string?\n",
    "    * Concatenation\t(ex: `\"cheese \" + \"whiz\"` will equal `\"cheese whiz\"` *Note the space!!*)\n",
    "        * Plus (+) sign is the string concatenation operator (can only operate on all string values: `\"cheese\" + 1` is an error)\n",
    "        * Asterisk (*) is the repetition operator\n",
    "\n",
    "    * Slicing (e.g.:  `\"cheese\"[1:4]` will equal `\"hee\"` as the index starts a 0)\n",
    "\n",
    "<img src = \"images\\string_slice.png\"/>\n"
   ]
  },
  {
   "cell_type": "code",
   "execution_count": null,
   "metadata": {
    "collapsed": false
   },
   "outputs": [],
   "source": [
    "print(\"cheese \" + \"whiz\") # Note the space...\n",
    "print(\"cheese\" * 3) # Note no space...\n",
    "print(\"cheese\"[1:4])\n",
    "print(\"cheese\"[:2])\n",
    "print(\"cheese\"[:-2])\n",
    "print(\"cheese\"[2:])\n",
    "print(\"cheese\"[-2:])"
   ]
  },
  {
   "cell_type": "markdown",
   "metadata": {
    "collapsed": true
   },
   "source": [
    "### Numbers\n",
    "\n",
    "* Number datatypes store numeric values that act like numbers (e.g. for math operations)\n",
    "\n",
    "\n",
    "* **Integer**: Number **without** decimal\n",
    "\n",
    "\n",
    "* **Float**: Number **with** decimal\n",
    "\n",
    "\n",
    "* What can you do with numbers?\n",
    "    * Simple math - e.g: \n",
    "        \n",
    "```python\n",
    "    5 + 7 – 3\n",
    "```        \n",
    "        \n",
    "    * Math with variables - e.g.:\n",
    "        \n",
    "```python\n",
    "    three = 3\n",
    "    5 + 7 – three\n",
    "```\n",
    "\n",
    "\n",
    "*In ArcGIS, feature class attribute tables will have long and short integers and float and double precision numbers. In Python, integers are treated like long and float is treated like double precsision.\n"
   ]
  },
  {
   "cell_type": "code",
   "execution_count": null,
   "metadata": {
    "collapsed": false
   },
   "outputs": [],
   "source": [
    "print( 5 + 7 - 3)\n",
    "\n",
    "three = 3\n",
    "\n",
    "print(5 + 7 - three)"
   ]
  },
  {
   "cell_type": "code",
   "execution_count": null,
   "metadata": {
    "collapsed": false
   },
   "outputs": [],
   "source": [
    "y = 0 # Run it once to evaluate, then change to 1 and run again; change to [] and run again\n",
    "\n",
    "if y:\n",
    "    print(True)\n",
    "else:\n",
    "    print(False)"
   ]
  },
  {
   "cell_type": "markdown",
   "metadata": {},
   "source": [
    "### Lists\n",
    "\n",
    "* What is a list?\n",
    "    * Series of ordered items or objects\n",
    "    * Compund data type\n",
    "    * Enclosed by square brackets `[]` and items separated with commas `,`\n",
    "    * Items and number of items can be changed (relace, add, or delete), or is mutable\n",
    "\n",
    "\n",
    "* How are lists used?\n",
    "    * Find one or a range of items\n",
    "```python\n",
    "        fruitlist = [\"apples\", \"oranges\", \"bananas\"]\n",
    "        fruitlist[1] # returns oranges\n",
    "        fruitlist[1:3] # returns ['oranges', 'bananas']\n",
    "```\n",
    "\n",
    "    * Iterate through it (use a loop)\n",
    "```python\n",
    "        fruitlist = [\"apples\", \"oranges\", \"bananas\"]\n",
    "        \n",
    "        for fruit in fruitlist:\n",
    "        # Do somthing...\n",
    "            print(fruit)\n",
    "```\n",
    "    * Change list values\n",
    "```python\n",
    "        fruitlist[1] = \"peaches\"\n",
    "        fruitlist.append(\"cherries\")\n",
    "        fruitlist.remove(\"apples\")\n",
    "        \n",
    "        print(fruitlist) # returns ['peaches', 'bananas', 'cherries']\n",
    "```\n",
    "\n",
    "* See https://www.tutorialspoint.com/python/python_lists.htm*"
   ]
  },
  {
   "cell_type": "code",
   "execution_count": null,
   "metadata": {
    "collapsed": false
   },
   "outputs": [],
   "source": [
    "fruitlist = [\"apples\", \"oranges\", \"bananas\"]\n",
    "\n",
    "print(fruitlist)\n",
    "\n",
    "print(fruitlist[1])\n",
    "\n",
    "print(fruitlist[1:3])\n",
    "\n",
    "print(len(fruitlist))"
   ]
  },
  {
   "cell_type": "code",
   "execution_count": null,
   "metadata": {
    "collapsed": false
   },
   "outputs": [],
   "source": [
    "# Iterate over the list...more on this later        \n",
    "for fruit in fruitlist:\n",
    "    print(fruit)"
   ]
  },
  {
   "cell_type": "code",
   "execution_count": null,
   "metadata": {
    "collapsed": false
   },
   "outputs": [],
   "source": [
    "# Change the list...\n",
    "fruitlist = [\"apples\", \"oranges\", \"bananas\"]\n",
    "\n",
    "fruitlist[1] = \"peaches\"\n",
    "fruitlist.append(\"cherries\")\n",
    "fruitlist.remove(\"apples\")\n",
    "del fruitlist[1]\n",
    "        \n",
    "print(fruitlist)"
   ]
  },
  {
   "cell_type": "markdown",
   "metadata": {},
   "source": [
    "### Tuples\n",
    "\n",
    "* What is a tuple?\n",
    "    * Similar to a list, but enclosed by parentheses `()`\n",
    "    * Immutable (i.e. not changeable; read-only)\n",
    "\n",
    "\n",
    "* How are tuples used?\n",
    "    * Find one or a range of items\n",
    "```python\n",
    "        fruittuple = (\"apples\", \"oranges\", \"bananas\")\n",
    "        fruittuple[1] # returns oranges\n",
    "        fruittuple[1:3] # returns ('oranges', 'bananas')\n",
    "```\n",
    "    * Iterate through it (use a loop)\n",
    "```python\n",
    "        fruittuple = (\"apples\", \"oranges\", \"bananas\"])\n",
    "        \n",
    "        for fruit in fruittuple:\n",
    "        # Do somthing...\n",
    "            print(fruit)\n",
    "```\n",
    "\n",
    "**I use tuples rarely as lists are used more often in ArcGIS. But, it is good to know about them in case they pop up.**\n"
   ]
  },
  {
   "cell_type": "code",
   "execution_count": null,
   "metadata": {
    "collapsed": false
   },
   "outputs": [],
   "source": [
    "fruittuple = (\"apples\", \"oranges\", \"bananas\")\n",
    "\n",
    "print(fruittuple)\n",
    "print(fruittuple[1])\n",
    "print(fruittuple[1:3])"
   ]
  },
  {
   "cell_type": "code",
   "execution_count": null,
   "metadata": {
    "collapsed": false
   },
   "outputs": [],
   "source": [
    "fruittuple = (\"apples\", \"oranges\", \"bananas\")\n",
    "        \n",
    "for fruit in fruittuple:\n",
    "    print(fruit)"
   ]
  },
  {
   "cell_type": "code",
   "execution_count": null,
   "metadata": {
    "collapsed": false,
    "scrolled": false
   },
   "outputs": [],
   "source": [
    "fruittuple[1] = \"peaches\" # Invalid syntax with tuple"
   ]
  },
  {
   "cell_type": "markdown",
   "metadata": {},
   "source": [
    "### Dictionaries\n",
    "\n",
    "* What is a dictionary?\n",
    "    * An *unordered* set of key:value pairs enclosed by curly brackets `{}`\n",
    "    * **Keys** must be unique values and are typically numbers or strings in quotes, but can be other Python data types\n",
    "    * **Values** can be any Python object and do not require quotes\n",
    "\n",
    "\n",
    "* How are dictionaries used?\n",
    "    * Find the value that goes with a key\n",
    "```python\n",
    "        dicttest = {\"key\":\"value\", \"lat\":39.98, \"long\": -89.65}\n",
    "        dicttest[\"key\"] # returns value\n",
    "        dicttest[\"lat\"] # returns 39.98\n",
    "        dicttest[\"long\"] # returns -89.65\n",
    "```\n",
    "    * Get a list of keys\n",
    "```python\n",
    "        dicttest.keys() # returns [\"key\", \"lat\", \"long\"]\n",
    "```\n",
    "\n",
    "    * Get a list of values\n",
    "```python\n",
    "        dicttest.values() # returns [\"value\", 39.98, -89.65]\n",
    "```\n",
    "\n",
    "    \n",
    "**Note: Dictionaries are good to know about, but we will not work with them in much detail for this workshop.**\n"
   ]
  },
  {
   "cell_type": "code",
   "execution_count": null,
   "metadata": {
    "collapsed": false
   },
   "outputs": [],
   "source": [
    "dicttest = {\"key\":\"value\", \"lat\":39.98, \"long\": -89.65}\n",
    "\n",
    "print(dicttest[\"key\"])\n",
    "print(dicttest[\"lat\"])\n",
    "print(dicttest[\"long\"])\n",
    "\n",
    "print dicttest.keys()\n",
    "\n",
    "print dicttest.values()"
   ]
  },
  {
   "cell_type": "markdown",
   "metadata": {
    "collapsed": true
   },
   "source": [
    "### Booleans\n",
    "\n",
    "* Boolean values are `True` or `False`\n",
    "* Used for evaluating whether something is `True` or `False`\n",
    "\n",
    "* The following will be evaluated as `False`:\n",
    "    * `None`\n",
    "    * `False`\n",
    "    * Zero of any numeric type (i.e. `0`)\n",
    "    * Any empty sequence (e.g. `''`,`()`,`[]`)\n",
    "    * Any empty dictionary (e.g. `{}`)\n"
   ]
  },
  {
   "cell_type": "code",
   "execution_count": null,
   "metadata": {
    "collapsed": false
   },
   "outputs": [],
   "source": [
    "print(True)\n",
    "print(False)\n",
    "\n",
    "a = True\n",
    "b = False\n",
    "\n",
    "print(a)\n",
    "print(b)"
   ]
  },
  {
   "cell_type": "markdown",
   "metadata": {
    "collapsed": true
   },
   "source": [
    "## Data Type Conversion\n",
    "\n",
    "* Converting between data types is common\n",
    "* There are built-in functions to deal with this\n",
    "* Example: You want to concatenate a numerical value into a string\n",
    "* There are also functions to determine what the data type is of a variable\n"
   ]
  },
  {
   "cell_type": "code",
   "execution_count": null,
   "metadata": {
    "collapsed": false
   },
   "outputs": [],
   "source": [
    "# Run the following code...What happens?\n",
    "\n",
    "x = 99\n",
    "\n",
    "print(\"There are \" + x + \" files.\")\n",
    "\n",
    "# Change x to be str(x)"
   ]
  },
  {
   "cell_type": "code",
   "execution_count": null,
   "metadata": {
    "collapsed": false
   },
   "outputs": [],
   "source": [
    "x = 99\n",
    "s = \"99\"\n",
    "l = [s, x]\n",
    "t = (s, x)\n",
    "\n",
    "print(type(x))\n",
    "print(type(s))\n",
    "print(type(l))\n",
    "print(tuple(l))\n",
    "print(type(t))\n",
    "print(list(t))"
   ]
  },
  {
   "cell_type": "markdown",
   "metadata": {},
   "source": [
    "## Simple Math with Python\n",
    "\n",
    "|Operator | Explanation | Example | Result |\n",
    "|:---:| --- |:---:|:---:|\n",
    "| x + y | x plus y | 1.5 + 2.5 | 4.0 |\n",
    "| x - y | x minus y | 3.3 - 2.2 | 1.1 |\n",
    "| x * y | x times y | 2.0 * 2.2 |  4.4 |\n",
    "| x / y | x divided by y | 4.0 / 1.25 | 3.2 |\n",
    "| x // y | x divided by y (floor division) | 4.0 / 1.25| 3.0 |\n",
    "| x % y | x modulo y | 8 % 3 | 2 |\n",
    "| -x | negative expression of x | x = 5 /n -x | -5 |\n",
    "| +x | x is unchanged | x = 5 /n +x | 5 |\n",
    "| x \\*\\* y | x raised to the power of y | 2 \\*\\* 3 | 8 | \n",
    "\n",
    "\n",
    "*Source: http://desktop.arcgis.com/en/arcmap/latest/tools/data-management-toolbox/calculate-field-examples.htm*\n",
    "\n",
    "\n",
    "**When performing field calculations with a Python expression, Python math rules are in effect. For example, dividing two integer values will always produce an integer output (3 / 2 = 1). To get decimal output:**\n",
    "\n",
    "* One of the numbers in the operation must be a decimal value: `3.0/2 = 1.5`\n",
    "\n",
    "\n",
    "* Use the float function to explicitly convert the value to a float:\n",
    "\n",
    "\n",
    "```python\n",
    "    float(3)/2 = 1.5\n",
    "    \n",
    "    float(3)/2 = 1.5\n",
    "```\n"
   ]
  },
  {
   "cell_type": "markdown",
   "metadata": {},
   "source": [
    "## Python Basic Syntax\n",
    "\n",
    "* Variables cannot start with a number or have a space in it\n",
    "```python\n",
    "    1line = 5 # This will not work...\n",
    "\n",
    "    a line = 5 # Neither will this...\n",
    "```\n",
    "\n",
    "* Here is a list of common ***reserved words***; do **NOT** use these as variable names:\n",
    "```python\n",
    "    and, del, from, not, while, as, elif, global, or, with, assert, else, if, pass, yield, break, except, import, \n",
    "    print, class, exec, in, raise, continue, finally, is, return, def, for, lambda, try\n",
    "    \n",
    "    # Basically, if it turns a color when you are done typing it, don’t use it as your variable’s name!\n",
    "    # There are likely many more reserved words!\n",
    "```\n",
    "\n",
    "\n",
    "* Variable name capitalization matters!!\n",
    "```python\n",
    "    Cat != cat\n",
    "```\n",
    "\n",
    "* Indentation matters!! AND...\n",
    "* Colons matter!!\n",
    "```python\n",
    "    if x\n",
    "    print(x)\n",
    "\n",
    "    # Will not work, but this will:\n",
    "    if x:\n",
    "        print(x)\n",
    "        \n",
    "    # typically 2 or 4 spaces...4 spaces are prefered (using Tab in the IDE should do this automatically)\n",
    "```\n",
    "\n",
    "* Quotations are a bit tricky, but very cool\n",
    "    * Single (`'`), double (`\"`) and triple-single and triple-double (`'''` or `\"\"\"`) quotes can be used to denote strings\n",
    "    * Make sure to end the strip denotation with the same type of quote structure\n",
    "```python\n",
    "    # Examples\n",
    "    \n",
    "    word1 = 'Dog'\n",
    "    word2 = \"'Dog'\"\n",
    "    word3 = '\"Dog\"'\n",
    "    print(word1, word2, word3)\n",
    "    # The three words above will print: Dog, 'Dog', and \"Dog\"\n",
    "    \n",
    "    words1 = 'That's the dog's toy' # Is a syntax error\n",
    "    words2 = \"That's the dog's toy\" # Prints: That's the dog's toy\n",
    "    \n",
    "    more_words = \"\"\"She said, \"Good dog!\" And the dog's tail wagged.\"\"\"\n",
    "    # Prints: She said, \"Good dog!\" And the dog's tail wagged.\n",
    "```\n",
    "\n",
    "* Backslashes can be confusing...\n",
    "```python\n",
    "    # These are all the same thing...\n",
    "    \"C:\\\\data\\\\things\" \n",
    "    \"C:/data/things\"\n",
    "    r\"C:\\data\\things\" # I prefer this one when working in ArcGIS...I will tell you why later\n",
    "```\n",
    "\n",
    "* Commenting is great!!\n",
    "    * Use it to help docuement and explain your code...we will do this throughout the exercises!\n",
    "    * Comments are not run in code; they are ignored\n",
    "    * Blank lines are also ignored\n",
    "```python\n",
    "    # This is a block comment\n",
    "    ## So is this\n",
    "    ### The blank line below this one will be ignored\n",
    "    \n",
    "    \"\"\" This is good for multi-line block comments\n",
    "    Notice that this line is still a comment\n",
    "    Use block commnets as mush as you need, but not too much\n",
    "    Don't forget to close the multi-line comment\"\"\"\n",
    "    \n",
    "    s = \"something\" # This is an in-line comment...use these sparingly in your code\n",
    "```\n",
    "\n",
    "**See the <a href=\"https://www.python.org/dev/peps/pep-0008/\" target=\"_blank\">Style Guide for Python Code</a> for more information**"
   ]
  },
  {
   "cell_type": "markdown",
   "metadata": {},
   "source": [
    "## Conditional Statements and Decision Making\n",
    "\n",
    "\n",
    "* Many times, we need code to make decisions\n",
    "* Some decisions are easy, while others are complex\n",
    "* Decision are made by evaluating whether something is `True` or `False`\n",
    "\n",
    "<img src = \"images\\decision_making.jpg\"/>\n",
    "\n",
    "\n",
    "*Source: https://www.tutorialspoint.com/python/python_decision_making.htm*\n"
   ]
  },
  {
   "cell_type": "markdown",
   "metadata": {},
   "source": [
    "### `if` Statements\n",
    "\n",
    "* `if` statement - one decision/option\n",
    "```python\n",
    "    # If 'x' is True\n",
    "    if x == 100: # Note the colon (:) and the double equals sigen (==)\n",
    "        \n",
    "        # Do something or many things\n",
    "        x = x + 1 # Note the indentation\n",
    "        print(x)\n",
    "```\n",
    "\n",
    "* `if`...`else` statement - two decisions/options\n",
    "```python\n",
    "    # If 'x' is True\n",
    "    if x == 100:\n",
    "        # Do something or many things\n",
    "        x = x + 1\n",
    "        print(x)\n",
    "\n",
    "    # If 'x' is NOT True\n",
    "    else:\n",
    "        # Do something else\n",
    "        x = x - 1\n",
    "        print(x)\n",
    "```\n",
    "\n",
    "* `if`...`elif`...`else` statement - many decisions/options\n",
    "```python\n",
    "    if x == 100:\n",
    "        x = x + 1\n",
    "        print(x)\n",
    "\n",
    "    # If 'x' is NOT True, try 'y'\n",
    "    elif y == 100:\n",
    "        y = x + y\n",
    "        print(y)\n",
    "\n",
    "    # If 'y' is NOT True, try 'z'\n",
    "    elif z == 100:\n",
    "        z = x ** y\n",
    "        print(z)\n",
    "\n",
    "    # If everything is NOT True\n",
    "    else:\n",
    "        w = y % z\n",
    "        print(w)\n",
    "```\n",
    "\n",
    "* `if` statements can be nested\n",
    "```python\n",
    "\n",
    "    if x == 100:\n",
    "        x = x + 1\n",
    "        print(x)\n",
    "\n",
    "        # If 'x' is True, AND 'y' is True\n",
    "        if y == 100: # ****Notice the second indent!!****\n",
    "            y = x + y\n",
    "            print(y)\n",
    "\n",
    "        # If 'x' is True, but 'y' is NOT True\n",
    "        else:\n",
    "            z = x ** y\n",
    "            print(z)\n",
    "\n",
    "    # If 'x' is NOT True\n",
    "    else:\n",
    "        w = y % z\n",
    "        print(w)\n",
    "```\n",
    "\n",
    "*No `end if` is required! Just unindent to show the end of the section."
   ]
  },
  {
   "cell_type": "markdown",
   "metadata": {},
   "source": [
    "### Comparison Operators\n",
    "\n",
    "| Operator | Description | Example |\n",
    "|:---:| ---| --- |\n",
    "| == | If the values of two operands are equal, then the condition becomes true. | (1 == 2) is NOT true. |\n",
    "| != | If values of two operands are not equal, then condition becomes true. | (1 != 2) is true. |\n",
    "| <> | If values of two operands are not equal, then condition becomes true. | (1 <> 2) is true. This is similar to != operator.|\n",
    "| > | If the value of left operand is greater than the value of right operand, then condition becomes true. | (1 > 2) is not true. |\n",
    "| < | If the value of left operand is less than the value of right operand, then condition becomes true. | (1 < 2) is true. |\n",
    "| >= | If the value of left operand is greater than or equal to the value of right operand, then condition becomes true. | (1 >= 2) is not true.|\n",
    "| <= | If the value of left operand is less than or equal to the value of right operand, then condition becomes true. | (1 <= 2) is true. |\n",
    "| and | Called Logical AND operator. If both the operands are true then then condition becomes true. | (a and b) is true |\n",
    "|or | Called Logical OR Operator. If any of the two operands are non zero then then condition becomes true. | (a or b) is true |\n",
    "| not | Called Logical NOT Operator. Use to reverses the logical state of its operand. If a condition is true then Logical NOT operator will make false. | not(a && b) is false |\n",
    "| in | Evaluates to true if it finds a variable in the specified sequence and false otherwise. | x in y, here in results in a 1 if x is a member of sequence y |\n",
    "| not in | Evaluates to true if it does not find a variable in the specified sequence and false otherwise. | x not in y, here not in results in a 1 if x is not a member of sequence y |\n",
    "\n",
    "*Adapted from: https://www.tutorialspoint.com/python/python_basic_operators.htm*\n"
   ]
  },
  {
   "cell_type": "code",
   "execution_count": null,
   "metadata": {
    "collapsed": false
   },
   "outputs": [],
   "source": [
    "a = 21\n",
    "b = 10\n",
    "c = 0\n",
    "\n",
    "if ( a == b ):\n",
    "    print \"Line 1 - a is equal to b\"\n",
    "else:\n",
    "    print \"Line 1 - a is not equal to b\"\n",
    "\n",
    "if ( a != b ):\n",
    "    print \"Line 2 - a is not equal to b\"\n",
    "else:\n",
    "    print \"Line 2 - a is equal to b\"\n",
    "\n",
    "if ( a <> b ):\n",
    "    print \"Line 3 - a is not equal to b\"\n",
    "else:\n",
    "    print \"Line 3 - a is equal to b\"\n",
    "\n",
    "if ( a < b ):\n",
    "    print \"Line 4 - a is less than b\" \n",
    "else:\n",
    "    print \"Line 4 - a is not less than b\"\n",
    "\n",
    "if ( a > b ):\n",
    "    print \"Line 5 - a is greater than b\"\n",
    "else:\n",
    "    print \"Line 5 - a is not greater than b\"\n"
   ]
  },
  {
   "cell_type": "code",
   "execution_count": null,
   "metadata": {
    "collapsed": false
   },
   "outputs": [],
   "source": [
    "a = 5;\n",
    "b = 20;\n",
    "if ( a <= b ):\n",
    "    print \"Line 6 - a is either less than or equal to  b\"\n",
    "else:\n",
    "    print \"Line 6 - a is neither less than nor equal to  b\"\n",
    "\n",
    "if ( b >= a ):\n",
    "    print \"Line 7 - b is either greater than  or equal to b\"\n",
    "else:\n",
    "    print \"Line 7 - b is neither greater than  nor equal to b\""
   ]
  },
  {
   "cell_type": "markdown",
   "metadata": {},
   "source": [
    "## Functions\n",
    "\n",
    "\n",
    "* Block of organized, reusable code\n",
    "* Performs a single, related action\n",
    "* Good when a funcion needs to be reused a lot\n",
    "* Many built-in functions (like `print()` and `str()`)\n",
    "* Users can create their own function, commonly referred to as *user-defined* functions\n",
    "\n",
    "### Defnining Funcitons\n",
    "\n",
    "* Function blocks begin with the keyword def followed by the function name and parentheses `()`.\n",
    "\n",
    "\n",
    "* Any input parameters or arguments should be placed within these parentheses. You can also define parameters inside these parentheses.\n",
    "\n",
    "\n",
    "* The first statement of a function can be an optional statement - the documentation string of the function or docstring.\n",
    "\n",
    "\n",
    "* The code block within every function starts with a colon (:) and is indented.\n",
    "\n",
    "\n",
    "* The statement return [expression] exits a function, optionally passing back an expression to the caller. A return statement with no arguments is the same as return None.\n",
    "\n",
    "```python\n",
    "    # Basic funtions syntax\n",
    "\n",
    "    def functionname( parameters ):\n",
    "        \"\"\"function_docstring\"\"\" # This is optional\n",
    "        function_suite\n",
    "        return [expression]\n",
    "```\n",
    "\n",
    "\n",
    "*Source: https://www.tutorialspoint.com/python/python_functions.htm*\n",
    "\n",
    "*Script Source: https://www.codecademy.com/learn/python*\n"
   ]
  },
  {
   "cell_type": "code",
   "execution_count": null,
   "metadata": {
    "collapsed": false
   },
   "outputs": [],
   "source": [
    "def tax(bill):\n",
    "    \"\"\"Adds 8% tax to a restaurant bill.\"\"\"\n",
    "    bill *= 1.08\n",
    "    print \"With tax: %f\" % bill\n",
    "    return bill\n",
    "\n",
    "def tip(bill):\n",
    "    \"\"\"Adds 15% tip to a restaurant bill.\"\"\"\n",
    "    bill *= 1.15\n",
    "    print \"With tip: %f\" % bill\n",
    "    return bill\n",
    "\n",
    "# Change the values a few times to see how the results change\n",
    "meal_cost = 100\n",
    "meal_with_tax = tax(meal_cost)\n",
    "meal_with_tip = tip(meal_with_tax)"
   ]
  },
  {
   "cell_type": "markdown",
   "metadata": {},
   "source": [
    "## Loops\n",
    "\n",
    "* Code is generally executed consecutively\n",
    "* Loops allow for a block of code to be executed several times\n",
    "* Two basic types: `for` and `while` loops\n",
    "\n",
    "<img src = \"images\\loop_architecture.jpg\"/>\n"
   ]
  },
  {
   "cell_type": "markdown",
   "metadata": {},
   "source": [
    "### `for` Loops\n",
    "\n",
    "* Work on ordered lists and other sequences\n",
    "* Repeats a block of code for each element of the list\n",
    "* When the end of the list is reached, the loop ends\n"
   ]
  },
  {
   "cell_type": "code",
   "execution_count": null,
   "metadata": {
    "collapsed": false
   },
   "outputs": [],
   "source": [
    "a_list = ['a', 'b', 'c', 'd']\n",
    "\n",
    "for item in a_list:\n",
    "    print item"
   ]
  },
  {
   "cell_type": "markdown",
   "metadata": {},
   "source": [
    "### `while` Loops\n",
    "\n",
    "* Executes the code block while a gived condition is true\n",
    "* Requires an exit condition, otherwise it could be an infinite loop (this is bad!!)\n",
    "\n",
    "```python\n",
    "    i = 0 # This is called a sentry variable\n",
    "    while i <= 10:\n",
    "        print i\n",
    "        i += 1 # Increment the sentry variable to ensure the exit condition\n",
    "```\n",
    "\n",
    "\n",
    "`i =+ 1` *is another way to increment a numeric value by a constance value (in this case `1`).*\n",
    "\n",
    "*See https://www.tutorialspoint.com/python/assignment_operators_example.htm for other similar operations. Python is full of these types of tricks!*\n"
   ]
  },
  {
   "cell_type": "code",
   "execution_count": null,
   "metadata": {
    "collapsed": false
   },
   "outputs": [],
   "source": [
    "i = 0\n",
    "\n",
    "while i <= 10:\n",
    "    print i\n",
    "    i += 1"
   ]
  },
  {
   "cell_type": "markdown",
   "metadata": {},
   "source": [
    "# Calculate Fields Using Python\n",
    "---\n",
    "\n",
    "* **A great place to practice Python in ArcGIS is by calculating fields**\n",
    "* Python and VB Script can be used to calculate fields\n",
    "* VB Script is the default, so Python needs to be set as the parser\n",
    "* Simple expressions use the Expression box\n",
    "* More complex calculations can use the Pre-Logic Script Code (window) or Code Block (tool) boxes\n",
    "* **Note: Python can be difficult to debug and check for errors when calculating fields**\n"
   ]
  },
  {
   "cell_type": "markdown",
   "metadata": {},
   "source": [
    "## Using Python in the Field Calculator Window\n",
    "\n",
    "\n",
    "### 1. Open the *Illinois.mxd* ArcMap document\n",
    "\n",
    "\n",
    "### 2. Open the Attribute Table for the 'Illinois Counties' Layer\n",
    "    We see that there is a field named 'AREA', but we don't know the units.\n",
    "    Note the other fields\n",
    "\n",
    "\n",
    "### 3. Add a field with the following parameters:\n",
    "    Name: AreaTest\n",
    "    Type: Double\n",
    "\n",
    "\n",
    "### 4. Right-click on the new field header and select Field Calculator\n",
    "\n",
    "\n",
    "### 5. Double click any field to add it to the expression box\n",
    "    Make sure the VB Script radio button is selected\n",
    "\n",
    "\n",
    "### 6. Select the Python radio button and add the same field\n",
    "    What is different?\n",
    "    Clear the expression box when done\n",
    "\n",
    "\n",
    "### 7. Click on the 'About calculating fields' link at the bottom left\n",
    "    Notice the different examples\n",
    "    Find the 'Code samples-geometry' section\n",
    "    These expressions can be used in lieu of the 'Calculate Geometry' window accessed through the attribute table\n",
    "    These expressions can also be used in the Calculate Field tool\n",
    "\n",
    "\n",
    "### 8. Enter the following code in the expression box\n"
   ]
  },
  {
   "cell_type": "code",
   "execution_count": null,
   "metadata": {
    "collapsed": true
   },
   "outputs": [],
   "source": [
    "\"\"\" Note: The following code is intended to be used to calculate an attribute table field in \n",
    "ArcGIS using the Field Calculator window or Calculate Field tool.\"\"\"\n",
    "\n",
    "# First try square meters\n",
    "\n",
    "!Shape.area@SQUAREMETERS!\n",
    "\n",
    "# How close are the vales compared to the AREA field?\n",
    "\n",
    "\n",
    "# Second, try square miles \n",
    "\n",
    "!Shape.area@SQUAREMILES!\n",
    "\n",
    "# Are these vales closer to the AREA field? Do you think we can get better?\n",
    "\n",
    "\n",
    "# Now try\n",
    "\n",
    "!Shape.geodesicArea@SQUAREMILES!\n",
    "\n",
    "# Which method is more acurate? Why do you think that is?\n",
    "\n",
    "\n",
    "# One last trick, type:\n",
    "\n",
    "None\n",
    "\n",
    "# This will make all the values NULL in the field...it is good to know about!"
   ]
  },
  {
   "cell_type": "markdown",
   "metadata": {},
   "source": [
    "## Field Calculator Window (continued)\n",
    "\n",
    "**Now we know the units, but we want to calculate the population density. We also want to know the difference between the median and average household income.**\n",
    "\n",
    "### 1. Delete the 'AreaTest' field\n",
    "    Click 'Yes' on the warning\n",
    "\n",
    "### 2. Add two fields with the following parameters:\n",
    "    Name: DensitySqmi\n",
    "    Type: Double\n",
    "    Alias: Density Per SqMi\n",
    "    \n",
    "    Name: DiffIncome\n",
    "    Type: Double\n",
    "    Alias: Avergae vs. Median Income\n",
    "    \n",
    "### 3. Calculate the field using Python\n",
    "    Clear the expression box before each calculation\n",
    "    Make sure the Python radio button is selected\n",
    "    Enter the code below"
   ]
  },
  {
   "cell_type": "code",
   "execution_count": null,
   "metadata": {
    "collapsed": false
   },
   "outputs": [],
   "source": [
    "\"\"\" Note: The following code is intended to be used to calculate an attribute table field in \n",
    "ArcGIS using the Field Calculator window or Calculate Field tool.\"\"\"\n",
    "\n",
    "# DensityPerSqmi calculation\n",
    "\n",
    "!ACSTOTPOP! / !AREA!\n",
    "\n",
    "#######################################################\n",
    "\n",
    "# DiffIncome calculation\n",
    "\n",
    "!ACSAVGHINC! - !ACSMEDHINC!\n"
   ]
  },
  {
   "cell_type": "markdown",
   "metadata": {},
   "source": [
    "## Field Calculator Window (continued)\n",
    "\n",
    "Now we would like to have three more fields for a short name, a long name, and a name with the area.\n",
    "\n",
    "### 1. Add two fields with the following parameters:\n",
    "    Field 1:\n",
    "        Name: NameLong\n",
    "        Type: Text\n",
    "        Alias: Long Name\n",
    "        Length: 100\n",
    "    \n",
    "    Field 2:\n",
    "        Name: NameShort\n",
    "        Type: Text\n",
    "        Alias: Short Name\n",
    "        Length: 50\n",
    "\n",
    "    Field 1:\n",
    "        Name: NameArea\n",
    "        Type: Text\n",
    "        Alias: Name (with Area)\n",
    "        Length: 100\n",
    "\n",
    "\n",
    "### 2. Calculate the fields using Python\n",
    "    Clear the expression box before each calculation\n",
    "    Make sure the Python radio button is selected\n",
    "    Enter the code below\n"
   ]
  },
  {
   "cell_type": "code",
   "execution_count": null,
   "metadata": {
    "collapsed": true
   },
   "outputs": [],
   "source": [
    "\"\"\" Note: The following code is intended to be used to calculate an attribute table field in \n",
    "ArcGIS using the Field Calculator window or Calculate Field tool.\"\"\"\n",
    "\n",
    "# NameLong calculation\n",
    "\n",
    "!NAME! + \", \" + !STATE_NAME!\n",
    "\n",
    "#######################################################\n",
    "\n",
    "# NameShort calculation\n",
    "\n",
    "!NAME!.replace(\" County\", \"\")\n",
    "\n",
    "# Note the first parameter...what do you notice?\n",
    "\n",
    "#######################################################\n",
    "\n",
    "# NameArea calculation\n",
    "\n",
    "!NAME! + \" (Area: \" + !AREA! + \" SqMi)\"\n",
    "\n",
    "# Did it work? Why or why not? Hint: Check the ArcMap Results window if you can't figure it out\n",
    "# Change the expression to be correct...\n",
    "\n",
    "\n",
    "# NameArea can also be calculated this way\n",
    "\n",
    "\" \".join([!NAME!, \"(Area:\", str(!AREA!), \"SqMi)\"])\n",
    "\n",
    "# What do you notice that is different with the elements being joined? I'm looking for 2 specific things...\n",
    "# Hint: Don't space out on me...and...0, 1, 2, 3\n"
   ]
  },
  {
   "cell_type": "markdown",
   "metadata": {},
   "source": [
    "## Field Calculator Window (continued)\n",
    "\n",
    "Now we would like to classify the median income levels.\n",
    "\n",
    "### 1. Add a field with the following parameters:\n",
    "    Name: IncomeLevel\n",
    "    Type: Text\n",
    "    Alias: Income Level\n",
    "    Length: 50\n",
    "\n",
    "### 2. Calculate the fields using Python\n",
    "    Clear the expression box\n",
    "    Make sure the Python radio button is selected\n",
    "    Check the 'Show Codeblock' box\n",
    "    Enter the code below\n",
    "    \n",
    "### 3. When you have completed the calculation in the Field Calculator window, open the result from the Results window\n",
    "    How does this look different?"
   ]
  },
  {
   "cell_type": "code",
   "execution_count": null,
   "metadata": {
    "collapsed": true
   },
   "outputs": [],
   "source": [
    "\"\"\" Note: The following code is intended to be used to calculate an attribute table field in \n",
    "ArcGIS using the Field Calculator window or Calculate Field tool.\"\"\"\n",
    "\n",
    "# When calulating a field, a function usually is used in the \n",
    "# Pre-Logic Script Code:\n",
    "\n",
    "def income_level(median_income, low_income, mid_income):\n",
    "    \"\"\"Classifies median income levels given low income  and middle income values\"\"\"\n",
    "    if median_income < low_income:\n",
    "        return \"Low Income\"\n",
    "    elif low_income <= median_income < mid_income:\n",
    "        return \"Middle Income\"\n",
    "    else:\n",
    "        return \"High Income\"\n",
    "\n",
    "\n",
    "# Expression:\n",
    "\n",
    "income_level(!ACSMEDHINC!, 35000, 60000)\n"
   ]
  },
  {
   "cell_type": "markdown",
   "metadata": {},
   "source": [
    "## Field Calculator Window (continued)\n",
    "\n",
    "Now we would like to know how many vertices are in each feature...just for fun!\n",
    "\n",
    "We will use an example from the ArcGIS Desktop help for <a href=\"http://desktop.arcgis.com/en/arcmap/latest/tools/data-management-toolbox/calculate-field-examples.htm#ESRI_SECTION1_C9E46547D3B246C1B89A36B0C84F7BA8\" target=\"_blank\">Calculate Field examples</a>. This page is a great resource.\n",
    "\n",
    "### 1. Add a field with the following parameters:\n",
    "    Name: VertexCount\n",
    "    Type: Long Integer\n",
    "    Alias: Number of Vertices\n",
    "\n",
    "### 2. Calculate the fields using Python\n",
    "    Clear the expression box\n",
    "    Make sure the Python radio button is selected\n",
    "    Make sure to check the 'Show Codeblock' box\n",
    "\n",
    "**Copy and Paste** the code below (it is for demonstrating that while loops can be used in the Field Calculator)\n"
   ]
  },
  {
   "cell_type": "code",
   "execution_count": null,
   "metadata": {
    "collapsed": true
   },
   "outputs": [],
   "source": [
    "\"\"\" Note: The following code is intended to be used to calculate an attribute table field in \n",
    "ArcGIS using the Field Calculator window or Calculate Field tool.\"\"\"\n",
    "\n",
    "# Pre-Logic Script Code:\n",
    "def VertexCount(feat):    \n",
    "    partnum = 0\n",
    "\n",
    "    # Count the number of points in the current multipart feature\n",
    "    partcount = feat.partCount\n",
    "    pntcount = 0\n",
    "\n",
    "    # Enter while loop for each part in the feature (if a singlepart \n",
    "    # feature this will occur only once)\n",
    "    #\n",
    "    while partnum < partcount:\n",
    "        part = feat.getPart(partnum)\n",
    "        pnt = part.next()\n",
    "\n",
    "        # Enter while loop for each vertex\n",
    "        #\n",
    "        while pnt:\n",
    "            pntcount += 1   \n",
    "            pnt = part.next()\n",
    "   \n",
    "            # If pnt is null, either the part is finished or there \n",
    "            # is an interior ring\n",
    "            #\n",
    "            if not pnt: \n",
    "                pnt = part.next()\n",
    "        partnum += 1\n",
    "    return pntcount\n",
    "\n",
    "\n",
    "# Expression:\n",
    "\n",
    "VertexCount(!Shape!)"
   ]
  },
  {
   "cell_type": "markdown",
   "metadata": {},
   "source": [
    "## Future Challenge: Try using Python with map labels in ArcMap\n",
    "---"
   ]
  },
  {
   "cell_type": "markdown",
   "metadata": {},
   "source": [
    "# ***Break***\n",
    "---"
   ]
  },
  {
   "cell_type": "markdown",
   "metadata": {},
   "source": [
    "# V. Introduction to ArcPy\n",
    "---"
   ]
  },
  {
   "cell_type": "markdown",
   "metadata": {},
   "source": [
    "\n",
    "## What is ArcPy?\n",
    "\n",
    "> ArcPy is a site package that builds on (and is a successor to) the successful arcgisscripting module. Its goal is to create the cornerstone for a useful and productive way to perform geographic data analysis, data conversion, data management, and map automation with Python.\n",
    "\n",
    "> This package provides a rich and native Python experience offering code completion (type a keyword and a dot to get a pop-up list of properties and methods supported by that keyword; select one to insert it) and reference documentation for each function, module, and class.\n",
    "\n",
    "> The additional power of using ArcPy within Python is the fact that Python is a general-purpose programming language. It is interpreted and dynamically typed and is suited for interactive work and quick prototyping of one-off programs known as scripts while being powerful enough to write large applications in. ArcGIS applications written with ArcPy benefit from the development of additional modules in numerous niches of Python by GIS professionals and programmers from many different disciplines.\n",
    "\n",
    "From <a href=\"http://desktop.arcgis.com/en/desktop/latest/analyze/arcpy/what-is-arcpy-.htm\" target=\"_blank\">http://desktop.arcgis.com/en/desktop/latest/analyze/arcpy/what-is-arcpy-.htm</a>\n",
    "\n",
    "\n",
    "## What is a Python Module?\n",
    "\n",
    "* Extensions that can be imported and used in Python scripts to expand the buil-in capabilities\n",
    "* Contain pre-written code to help out with specialized tasks and defines functions, classes and variables for those tasks\n",
    "* Also allows you to logically organize your Python code\n",
    "* Single file consisting of Python code and also include runnable code\n",
    "* Modules are imported into a script using the **`import`** statement\n",
    "* Many times you need to download and install new modules\n",
    "\n",
    "\n",
    "## What is a Python Site Package?\n",
    "\n",
    "* Like a module, but contains a collections of modules, functions, and classes\n",
    "* Site packages and modules both add functionality to Python\n"
   ]
  },
  {
   "cell_type": "markdown",
   "metadata": {},
   "source": [
    "## `import` Statements\n",
    "\n",
    "* We aren’t able to use everything Python has to offer without importing modules\n",
    "* Only need to import a module once in a script\n",
    "* Customary to import everything at the beginning of your script\n",
    "```python\n",
    "    import arcpy\n",
    "    import os\n",
    "    import sys\n",
    "    \n",
    "    # Best practice is to stack each import statement as above, but this is not wrong:\n",
    "    import arcpy, os, sys\n",
    "    \n",
    "    import arcpy as a # This can sometimes make things simpler; you can use a.whatever instead of arcpy.whatever\n",
    "    from arcpy import da # Do this if you only want a specific part of the site package/module\n",
    "    from arcpy.sa import * # This also works, but should be used sparingly\n",
    "```\n",
    "\n",
    "\n",
    "## Importing ArcPy\n",
    "\n",
    "* To work with ArcPy, you must `import` it\n",
    "* Once imported, you can now use all the modules, functions, tools, and classes\n",
    "\n",
    "*See http://desktop.arcgis.com/en/arcmap/10.3/analyze/python/importing-arcpy.htm for more information*"
   ]
  },
  {
   "cell_type": "code",
   "execution_count": null,
   "metadata": {
    "collapsed": true
   },
   "outputs": [],
   "source": [
    "# Always import the ArcPy site package and other modules first in your script\n",
    "# This may take a while if you are working outside of ArcGIS\n",
    "\n",
    "import arcpy\n"
   ]
  },
  {
   "cell_type": "markdown",
   "metadata": {},
   "source": [
    "## Utilizing the ArcPy ArcGIS Desktop Help Documentation\n",
    "\n",
    "\n",
    "### Desktop vs. Python Window vs. Online Documentation\n",
    "* Desktop help can be opened through the Help menu or from the tool interface\n",
    "* Python window help and syntax panel on the right (more on this later)\n",
    "* ArcGIS Desktop Online Documentation: http://desktop.arcgis.com/en/documentation/\n",
    "  \n",
    "### ArcPy Help\n",
    "* http://desktop.arcgis.com/en/desktop/latest/analyze/arcpy/what-is-arcpy-.htm\n",
    "* Contains help on functions and classes not listed in the tool documentation\n",
    "* Note the additional modules\n",
    "\n",
    "### Understanding Geoprocessing Tool Help with Python and ArcPy\n",
    "* Includes tool syntax and sample codes for the Python window and stand-alone scripts\n",
    "* Includes detailed explanations of each parameter\n"
   ]
  },
  {
   "cell_type": "markdown",
   "metadata": {},
   "source": [
    "# Using ArcPy in the ArcMap Python Window\n",
    "---\n",
    "\n",
    "**Another great place to practice Python in the ArcMap Python Window**\n"
   ]
  },
  {
   "cell_type": "markdown",
   "metadata": {},
   "source": [
    "## 1. Download exercise data from: https://uofi.box.com/ILGISA-Python\n",
    "* You should have already done this...but just is case you didn't\n",
    "\n",
    "\n",
    "## 2. Open the 'Illinois.mxd' ArcMap Document\n",
    "\n",
    "\n",
    "## 3. Open the Python Window in ArcMap\n",
    "\n",
    "* Click the Python widow button > <img src = \"images\\arcgis_pythonwindow_icon.png\" style=\"display: inline-block;\"/>\n",
    "* Allows for running geoprocessing tools while also taking advantage of other Python modules and librarires\n",
    "* Can be used for single-line code (e.g. Used instead of ArcToolbox to access tools)\n",
    "* Can be used for testing syntax and longer, more complex scripts that might be used for automating workflows\n",
    "* Replaces the Command Line for earlier releases of ArcGIS\n",
    "\n",
    "## The Python Window\n",
    "\n",
    "* Left side is the interactive Python interpreter panel\n",
    "  * This is where code is entered\n",
    "  * Note the three greater-than symbols (>>>)\n",
    "* Right side is the help and syntax panel\n",
    "* Code is generally executed one line at a time and displayed immediately. Exceptions include:\n",
    "  * Multi-line constucts (such as `if` statements)\n",
    "  * Pressing SHIFT or CTRL + ENTER at the end of a line of code (you may need to hit ENTER a few times when you are ready to run the code)\n",
    "* Other Advanatages of the Python window\n",
    "  * Autocompletion\n",
    "  * Conditional and Iteration executuion\n",
    "  * Scripts can be saved and reused or opened with another Python IDE\n",
    "\n",
    "*See http://desktop.arcgis.com/en/arcmap/latest/analyze/executing-tools/what-is-the-python-window-.htm for more info*\n"
   ]
  },
  {
   "cell_type": "markdown",
   "metadata": {},
   "source": [
    "## Describing Data with ArcPy\n",
    "\n",
    "* Describing data allows to learn more about the data we are working with\n",
    "* Describe functions are useful when scripts may be dependent on the type of data being used\n",
    "* Good for controlling script flow and valdating parameters\n",
    "* Many property groups and some prperties exist for only some types\n",
    "\n",
    "See ArcGIS Documentation: http://desktop.arcgis.com/en/desktop/latest/analyze/arcpy-functions/describe.htm\n",
    "\n",
    "### System Paths vs. Catalog paths\n",
    "\n",
    "* System paths are recognized by the Windows operating system\n",
    "  * Files in folders\n",
    "  * Ex. Shapefiles and rasters\n",
    "  \n",
    "* Catalog paths are only recognized by ArcGIS\n",
    "  * Used for feature classes and other data in geodatabases\n",
    "  * Geodatabases could be file (.gdb), personal (.mdb) or enterprise (.sde)\n",
    "  * Contain 2 parts:\n",
    "    * Workspace - could be the geodatabase root or a feture dataset\n",
    "    * Base name - the feature class, raster, or other file types that can be saved in geodatabases\n",
    "  * Requires the programmer to be aware of the context inwhich the path is being used\n",
    "\n",
    "***Type, do not copy, the following code into the Python window***\n",
    "\n",
    "### *Note: The following code is intended to only be run in the Python window of ArcMap*\n"
   ]
  },
  {
   "cell_type": "code",
   "execution_count": null,
   "metadata": {
    "collapsed": false
   },
   "outputs": [],
   "source": [
    "# Step 1:\n",
    "import arcpy\n",
    "\n",
    "file_name = r'C:\\Data\\CSV\\JeopardyContestants_LatLon.csv'\n",
    "print(arcpy.Exists(file_name))\n",
    "\n",
    "# What kind of path is this? System or Catalog?\n",
    "# What is the result?\n",
    "\n",
    "\n",
    "# Try again, this time, but type the up arrow to reload the last code\n",
    "# Replace the '...' with the location where you placed your downloaded data\n",
    "# I also have a cool trick...drag, drop, and roll!\n",
    "\n",
    "file_name = r'C:\\...\\Data\\CSV\\JeopardyContestants_LatLon.csv'\n",
    "print(arcpy.Exists(file_name))\n",
    "\n",
    "# Does it exist? Keep trying until you get the path correct and the result returns Treu\n",
    "\n",
    "\n",
    "print(arcpy.Describe(file_name).dataType)\n",
    "\n",
    "# What type of data is this?"
   ]
  },
  {
   "cell_type": "code",
   "execution_count": null,
   "metadata": {
    "collapsed": true
   },
   "outputs": [],
   "source": [
    "# Step 2:\n",
    "\n",
    "# Replace the '...' with the location where you placed your downloaded data\n",
    "\n",
    "feature_class = r'C:\\...\\Data\\Illinois.gdb\\Illinois_Counties'\n",
    "# What kind of path is this?\n",
    "\n",
    "print(arcpy.Exists(feature_class))\n",
    "\n",
    "print(arcpy.Describe(feature_class).dataType)\n",
    "# What type of data is this?"
   ]
  },
  {
   "cell_type": "code",
   "execution_count": null,
   "metadata": {
    "collapsed": true
   },
   "outputs": [],
   "source": [
    "# Step 3:\n",
    "\n",
    "layer_name = 'Illinois Counties'\n",
    "\n",
    "# What kind of path is this? System or Catalog?\n",
    "\n",
    "print arcpy.Exists(layer_name)\n",
    "\n",
    "lyr_desc = arcpy.Describe(layer_name)\n",
    "# Note how this Describe function and variable look different than before...\n",
    "# We can have describe objects become variables to be used later\n",
    "\n",
    "print lyr_desc.dataType\n",
    "print lyr_desc.dataElement.dataType"
   ]
  },
  {
   "cell_type": "markdown",
   "metadata": {},
   "source": [
    "### What is the difference between the last two print statements?\n",
    "\n",
    "### Lets look at the help: \n",
    "* http://desktop.arcgis.com/en/desktop/latest/analyze/arcpy-functions/describe-object-properties.htm\n",
    "* http://desktop.arcgis.com/en/desktop/latest/analyze/arcpy-functions/layer-properties.htm"
   ]
  },
  {
   "cell_type": "code",
   "execution_count": null,
   "metadata": {
    "collapsed": false,
    "scrolled": true
   },
   "outputs": [],
   "source": [
    "# Step 4:\n",
    "\n",
    "lyr_datatype = lyr_desc.dataElement.dataType\n",
    "\n",
    "lyr_path = lyr_desc.path\n",
    "\n",
    "lyr_basename = lyr_desc.baseName\n",
    "\n",
    "lyr_spatialref = lyr_desc.spatialReference.name\n",
    "\n",
    "lyr_count = arcpy.GetCount_management(layer_name)\n",
    "\n",
    "# Here is a new way to format strings with inline variable substitution\n",
    "\n",
    "print(\"{} is a {} stored at {} with a file name of {} with the {} coordinate system and contains {} features.\"\\\n",
    "    .format(layer_name, lyr_datatype, lyr_path, lyr_basename, lyr_spatialref, lyr_count))\n",
    "\n",
    "    # The slash does not need to be typed, it is there for formatting purposes"
   ]
  },
  {
   "cell_type": "markdown",
   "metadata": {},
   "source": [
    "### Formatting Strings\n",
    "\n",
    "* Formatting strings pretty slick\n",
    "* Can save space and time\n",
    "\n",
    "*See https://pyformat.info/ and https://docs.python.org/2/library/string.html#custom-string-formatting"
   ]
  },
  {
   "cell_type": "markdown",
   "metadata": {},
   "source": [
    "## Listing Data with ArcPy\n",
    "\n",
    "* Helps with batch processing (primary reason for developing scripts)\n",
    "* Lists are good for interating processes using loops (another primary reason for developing scripts)\n",
    "* Easy inventory of data (e.g. list of fields in a table; feature classes in a geodatabase)\n",
    "* In order to list data, we must utilize the environmental settings class\n",
    "\n",
    "\n",
    "### Environmental Settings\n",
    "\n",
    "http://desktop.arcgis.com/en/desktop/latest/tools/environments/what-is-a-geoprocessing-environment.htm\n",
    "\n",
    "* Hidden parameters that influence how tools run\n",
    "* Fundamental in controlling the geoprocessing workflow\n",
    "* Exposed as properties and set using the **`env`** class\n",
    "* Corresponds to the 'Environments...' found in tools\n",
    "* There is a hierarchy with how ArcGIS deals with environmental settings.\n",
    "\n",
    "*See http://desktop.arcgis.com/en/desktop/latest/tools/environments/environment-levels-and-hierarchy.htm*\n",
    "\n",
    "***Type, do not copy, the following code into the Python window***\n",
    "\n",
    "### *Note: The following code is intended to only be run in the Python window of ArcMap*\n"
   ]
  },
  {
   "cell_type": "code",
   "execution_count": null,
   "metadata": {
    "collapsed": true
   },
   "outputs": [],
   "source": [
    "# Step 1:\n",
    "\n",
    "# First, we must set the environmental settings\n",
    "# Replace the '...' with the location where you placed your downloaded data\n",
    "arcpy.env.workspace = r'C:\\...\\Data\\CSV'\n",
    "\n",
    "print(arcpy.ListFiles())\n",
    "\n",
    "arcpy.env.workspace = r'C:\\...\\Data\\Illinois.gdb'\n",
    "\n",
    "print(arcpy.ListFiles())\n",
    "\n",
    "print(arcpy.ListFeatureClasses())\n",
    "\n",
    "# What is the difference between the two list functions?"
   ]
  },
  {
   "cell_type": "code",
   "execution_count": null,
   "metadata": {
    "collapsed": true
   },
   "outputs": [],
   "source": [
    "# Step 2:\n",
    "\n",
    "print(arcpy.ListFields(\"Illinois Counties\"))\n",
    "\n",
    "# What is the result? Can you understand it? \n",
    "# What is actually being output in this case? (Hint: What type of object?)\n",
    "\n",
    "fields = arcpy.ListFields(\"Illinois Counties\")\n",
    "print(type(fields[0]))\n",
    "\n",
    "# We can print each field name...\n",
    "for field in fields:\n",
    "    print(field.name)\n",
    "\n",
    "# Or the field aliases...\n",
    "for field in fields:\n",
    "    print(field.aliasName)"
   ]
  },
  {
   "cell_type": "code",
   "execution_count": null,
   "metadata": {
    "collapsed": true
   },
   "outputs": [],
   "source": [
    "# Step 3:\n",
    "# We can also create a list of the fields; this is called a 'list comprehension' and they are very powerful\n",
    "\n",
    "field_list = [field.name for field in arcpy.ListFields(\"Illinois Counties\")]\n",
    "\n",
    "print(field_list)\n",
    "\n",
    "# How does this result look differently than above?\n",
    "\n",
    "test_field = \"OBJECTID\"\n",
    "\n",
    "if test_field in field_list:\n",
    "    print(\"{} exists\".format(test_field))\n",
    "else:\n",
    "    print(\"{} does not exist\".format(test_field))\n",
    "\n",
    "# Repeat the above code using a test field that you know doesn't exist to test the 'else:' statement code\n",
    "# Does it work?\n"
   ]
  },
  {
   "cell_type": "markdown",
   "metadata": {},
   "source": [
    "### List Comprehensions\n",
    "\n",
    "* Used for creating list concisely and quickly\n",
    "* Consists of brackets containing an expression followed by a for clause\n",
    "* Optinally can have one or more `if` or `for` clauses\n",
    "* Result will be a new list resulting from evaluating the expression in the context of the for and if clauses\n",
    "* Always returns a result list\n",
    "\n",
    "*See:\n",
    "* http://desktop.arcgis.com/en/arcmap/latest/analyze/arcpy-functions/listfields.htm\n",
    "* http://www.learnpython.org/en/List_Comprehensions\n",
    "* http://www.pythonforbeginners.com/basics/list-comprehensions-in-python"
   ]
  },
  {
   "cell_type": "markdown",
   "metadata": {},
   "source": [
    "## Geoprocessing Tools with ArcPy\n",
    "\n",
    "* ArcPy gives access to all tools in ArcToolbox in addition to many non-tool functions\n",
    "* Working in the Python window allows for testing ideas and seeing how things work\n",
    "* Tested scripts can also be saved for reuse in the Python window or in an IDE.\n",
    "\n",
    "***Type, do not copy, the following code into the Python window***\n",
    "\n",
    "**Clear the ArcMap Python Window**\n",
    "\n",
    "### *Note: The following code is intended to only be run in the Python window of ArcMap*"
   ]
  },
  {
   "cell_type": "code",
   "execution_count": null,
   "metadata": {
    "collapsed": true
   },
   "outputs": [],
   "source": [
    "# Step 1:\n",
    "import arcpy\n",
    "\n",
    "layer_name = \"Illinois Counties\"\n",
    "\n",
    "expression = \"ACSMEDHINC <= 40000\"\n",
    "\n",
    "arcpy.SelectLayerByAttribute_management(layer_name, \"NEW_SELECTION\", expression)\n",
    "\n",
    "# Now clear the selection\n",
    "arcpy.SelectLayerByAttribute_management(layer_name, \"CLEAR_SELECTION\")"
   ]
  },
  {
   "cell_type": "code",
   "execution_count": null,
   "metadata": {
    "collapsed": true
   },
   "outputs": [],
   "source": [
    "# Step 2:\n",
    "\n",
    "# Ensure that a default geodatabase is set\n",
    "arcpy.env.workspace = r'C:\\...\\Data\\Illinois.gdb'\n",
    "\n",
    "# Create a variable for dissolve fields\n",
    "disolve_felds = [\"STATE_NAME\", \"ST_ABBREV\"]\n",
    "\n",
    "# New drag, drop, and roll trick...\n",
    "\n",
    "arcpy.Dissolve_management(layer_name, \"Illinois\", disolve_felds, \"\", \"SINGLE_PART\", \"DISSOLVE_LINES\")\n",
    "\n",
    "arcpy.PolygonToLine_management(\"Illinois\", \"Illinois_Boundary\")\n",
    "\n",
    "# You may want to rearrage your layers in the TOC"
   ]
  },
  {
   "cell_type": "code",
   "execution_count": null,
   "metadata": {
    "collapsed": true
   },
   "outputs": [],
   "source": [
    "# Step 3:\n",
    "\n",
    "# Replace the '...' with the location where you placed your downloaded data\n",
    "\n",
    "csv_file = r\"C:\\...\\Data\\CSV\\JeopardyContestants_LatLon.csv\"\n",
    "\n",
    "arcpy.CopyRows_management(csv_file, \"JeopardyContestants_Table\")\n",
    "\n",
    "arcpy.MakeXYEventLayer_management(\"JeopardyContestants_Table\", \"lon\", \"lat\", \"Jeopardy Contestants\")\n",
    "\n",
    "arcpy.Select_analysis(\"Jeopardy Contestants\", \"JeopardyContestants\", '\"lat\" IS NOT NULL OR \"lon\" IS NOT NULL')\n",
    "\n",
    "arcpy.Buffer_analysis(\"JeopardyContestants\", \"JeopardyContestants_Buffer\", \"5 Miles\", \"FULL\", \"ROUND\", \"ALL\", \"\", \"GEODESIC\")\n"
   ]
  },
  {
   "cell_type": "markdown",
   "metadata": {},
   "source": [
    "## Your turn:\n",
    "\n",
    "### 1: Write code to clip the buffer to the Illinois state layer\n",
    "    Be careful with which tool you choose...there are few tools named 'Clip_...'\n",
    "\n",
    "### 2: Write code to intersect the new buffer to the Illinois Counties layer\n",
    "    You might need to check the tool's help documentation...\n",
    "\n",
    "### 3: Save your work as a text file (.txt) in the 'Scripts' folder \n",
    "    Open the text file and view it in a text editor (like Notepad)\n",
    "\n",
    "### 4: Save your work as a Python file (.py) in the 'Scripts' folder\n",
    "    After saving, open the .py file in PyScipter or other IDE\n",
    "    You may need to clean up the script for any mistakes or extraneous code\n",
    "    Clear the Python window in ArcMap\n",
    "\n",
    "### 5. Load the Python file back into the Python window\n",
    "    Try running the whole script at once\n",
    "    This is one way you can create, save, and reuse a script for use again!"
   ]
  },
  {
   "cell_type": "markdown",
   "metadata": {},
   "source": [
    "# Complete!\n",
    "---"
   ]
  },
  {
   "cell_type": "markdown",
   "metadata": {},
   "source": [
    "# VI. Conclusion\n",
    "---\n",
    "\n",
    "## Python is simple to use and easy to learn!\n",
    "\n",
    "## The only way to get better is to practice and challenge yourself\n",
    "\n",
    "## Utilize Python and ArcGIS help documentation and forums\n",
    "\n",
    "## There is so much more to learn!!\n"
   ]
  },
  {
   "cell_type": "code",
   "execution_count": null,
   "metadata": {
    "collapsed": false
   },
   "outputs": [],
   "source": [
    "print(\"Have a great Lunch. Ta ta for now!\")"
   ]
  }
 ],
 "metadata": {
  "anaconda-cloud": {},
  "kernelspec": {
   "display_name": "Python [conda env:arc1041]",
   "language": "python",
   "name": "conda-env-arc1041-py"
  },
  "language_info": {
   "codemirror_mode": {
    "name": "ipython",
    "version": 2
   },
   "file_extension": ".py",
   "mimetype": "text/x-python",
   "name": "python",
   "nbconvert_exporter": "python",
   "pygments_lexer": "ipython2",
   "version": "2.7.10"
  }
 },
 "nbformat": 4,
 "nbformat_minor": 0
}
